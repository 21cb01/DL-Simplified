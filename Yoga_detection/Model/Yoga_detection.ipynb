{
 "cells": [
  {
   "cell_type": "markdown",
   "metadata": {},
   "source": [
    "# Real Time Yoga Detection"
   ]
  },
  {
   "cell_type": "markdown",
   "metadata": {},
   "source": [
    "### Importing Libraries"
   ]
  },
  {
   "cell_type": "code",
   "execution_count": 1,
   "metadata": {},
   "outputs": [],
   "source": [
    "import mediapipe as mp \n",
    "import numpy as np \n",
    "import cv2 \n",
    "\n",
    "import os  \n",
    "import numpy as np \n",
    "import cv2 \n",
    "from tensorflow.keras.utils import to_categorical\n",
    "\n",
    "from keras.layers import Input, Dense \n",
    "from keras.models import Model\n",
    "\n",
    "import cv2 \n",
    "import numpy as np \n",
    "import mediapipe as mp \n",
    "from keras.models import load_model "
   ]
  },
  {
   "cell_type": "markdown",
   "metadata": {},
   "source": [
    "## Data collection function"
   ]
  },
  {
   "cell_type": "code",
   "execution_count": 2,
   "metadata": {},
   "outputs": [],
   "source": [
    "def data_collection():\n",
    "    def inFrame(lst):\n",
    "        if lst[28].visibility > 0.6 and lst[27].visibility > 0.6 and lst[15].visibility>0.6 and lst[16].visibility>0.6:\n",
    "            return True \n",
    "        return False\n",
    "    \n",
    "    cap = cv2.VideoCapture(1)\n",
    "\n",
    "    name = input(\"Enter the name of the Asana : \")\n",
    "\n",
    "    holistic = mp.solutions.pose\n",
    "    holis = holistic.Pose()\n",
    "    drawing = mp.solutions.drawing_utils\n",
    "\n",
    "    X = []\n",
    "    data_size = 0\n",
    "\n",
    "    while True:\n",
    "        lst = []\n",
    "\n",
    "        _, frm = cap.read()\n",
    "\n",
    "        frm = cv2.flip(frm, 1)\n",
    "\n",
    "        res = holis.process(cv2.cvtColor(frm, cv2.COLOR_BGR2RGB))\n",
    "\n",
    "        if res.pose_landmarks and inFrame(res.pose_landmarks.landmark):\n",
    "            for i in res.pose_landmarks.landmark:\n",
    "                lst.append(i.x - res.pose_landmarks.landmark[0].x)\n",
    "                lst.append(i.y - res.pose_landmarks.landmark[0].y)\n",
    "\n",
    "            X.append(lst)\n",
    "            data_size = data_size+1\n",
    "\n",
    "        else: \n",
    "            cv2.putText(frm, \"Make Sure Full body visible\", (50,50), cv2.FONT_HERSHEY_SIMPLEX, 1, (0,0,255),2)\n",
    "\n",
    "        drawing.draw_landmarks(frm, res.pose_landmarks, holistic.POSE_CONNECTIONS)\n",
    "\n",
    "        cv2.putText(frm, str(data_size), (50,50), cv2.FONT_HERSHEY_SIMPLEX, 1, (0,255,0),2)\n",
    "\n",
    "        cv2.imshow(\"window\", frm)\n",
    "\n",
    "        if cv2.waitKey(1) == 27 or data_size>80:\n",
    "            cv2.destroyAllWindows()\n",
    "            cap.release()\n",
    "            break\n",
    "\n",
    "\n",
    "    np.save(f\"{name}.npy\", np.array(X))\n",
    "    print(np.array(X).shape)"
   ]
  },
  {
   "cell_type": "markdown",
   "metadata": {},
   "source": [
    "## Data training Function"
   ]
  },
  {
   "cell_type": "markdown",
   "metadata": {},
   "source": [
    "def train():\n",
    "    is_init = False\n",
    "    size = -1\n",
    "\n",
    "    label = []\n",
    "    dictionary = {}\n",
    "    c = 0\n",
    "\n",
    "    for i in os.listdir():\n",
    "        if i.split(\".\")[-1] == \"npy\" and not(i.split(\".\")[0] == \"labels\"):  \n",
    "            if not(is_init):\n",
    "                is_init = True \n",
    "                X = np.load(i)\n",
    "                size = X.shape[0]\n",
    "                y = np.array([i.split('.')[0]]*size).reshape(-1,1)\n",
    "            else:\n",
    "                X = np.concatenate((X, np.load(i)))\n",
    "                y = np.concatenate((y, np.array([i.split('.')[0]]*size).reshape(-1,1)))\n",
    "\n",
    "            label.append(i.split('.')[0])\n",
    "            dictionary[i.split('.')[0]] = c  \n",
    "            c = c+1\n",
    "\n",
    "\n",
    "    for i in range(y.shape[0]):\n",
    "        y[i, 0] = dictionary[y[i, 0]]\n",
    "    y = np.array(y, dtype=\"int32\")\n",
    "\n",
    "\n",
    "    y = to_categorical(y)\n",
    "\n",
    "    X_new = X.copy()\n",
    "    y_new = y.copy()\n",
    "    counter = 0 \n",
    "\n",
    "    cnt = np.arange(X.shape[0])\n",
    "    np.random.shuffle(cnt)\n",
    "\n",
    "    for i in cnt: \n",
    "        X_new[counter] = X[i]\n",
    "        y_new[counter] = y[i]\n",
    "        counter = counter + 1\n",
    "\n",
    "\n",
    "    ip = Input(shape=(X.shape[1]))\n",
    "\n",
    "    m = Dense(128, activation=\"tanh\")(ip)\n",
    "    m = Dense(64, activation=\"tanh\")(m)\n",
    "\n",
    "    op = Dense(y.shape[1], activation=\"softmax\")(m) \n",
    "\n",
    "    model = Model(inputs=ip, outputs=op)\n",
    "\n",
    "    model.compile(optimizer='rmsprop', loss=\"categorical_crossentropy\", metrics=['acc'])\n",
    "\n",
    "    model.fit(X_new, y_new, epochs=80)\n",
    "\n",
    "\n",
    "    model.save(\"model.h5\")\n",
    "    np.save(\"labels.npy\", np.array(label))\n"
   ]
  }
 ],
 "metadata": {
  "kernelspec": {
   "display_name": "Python 3.9.7 64-bit",
   "language": "python",
   "name": "python3"
  },
  "language_info": {
   "codemirror_mode": {
    "name": "ipython",
    "version": 3
   },
   "file_extension": ".py",
   "mimetype": "text/x-python",
   "name": "python",
   "nbconvert_exporter": "python",
   "pygments_lexer": "ipython3",
   "version": "3.9.7"
  },
  "orig_nbformat": 4,
  "vscode": {
   "interpreter": {
    "hash": "81794d4967e6c3204c66dcd87b604927b115b27c00565d3d43f05ba2f3a2cb0d"
   }
  }
 },
 "nbformat": 4,
 "nbformat_minor": 2
}
