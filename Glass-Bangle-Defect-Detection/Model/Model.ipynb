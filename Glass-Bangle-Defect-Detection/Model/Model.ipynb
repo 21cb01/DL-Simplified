{
 "cells": [
  {
   "cell_type": "markdown",
   "metadata": {
    "collapsed": false,
    "pycharm": {
     "name": "#%% md\n"
    }
   },
   "source": [
    "<h1 style=\"text-align:center\">Training CNN Neural Network for Glass Bangle Defect Detection</h1>"
   ]
  },
  {
   "cell_type": "markdown",
   "metadata": {
    "collapsed": false
   },
   "source": [
    "<h3 style=\"text-align:right\">-By Aryan Gupta</h3>"
   ]
  },
  {
   "cell_type": "code",
   "execution_count": 3,
   "metadata": {
    "id": "zjlAUwvF4Iqi"
   },
   "outputs": [],
   "source": [
    "import torch \n",
    "import torch.nn as nn\n",
    "import torch.nn.functional as F\n",
    "import torchvision\n",
    "import matplotlib.pyplot as plt\n",
    "import numpy as np\n",
    "from torchvision import datasets, transforms\n",
    "import os"
   ]
  },
  {
   "cell_type": "code",
   "execution_count": 1,
   "metadata": {
    "collapsed": false,
    "pycharm": {
     "name": "#%%\n"
    }
   },
   "outputs": [
    {
     "name": "stdout",
     "output_type": "stream",
     "text": [
      "Collecting opendatasets\n",
      "  Downloading opendatasets-0.1.22-py3-none-any.whl (15 kB)\n",
      "Collecting kaggle\n",
      "  Downloading kaggle-1.5.12.tar.gz (58 kB)\n",
      "\u001b[K     |████████████████████████████████| 58 kB 582 kB/s eta 0:00:01\n",
      "\u001b[?25hRequirement already satisfied: click in /Users/guptaaryan16/opt/anaconda3/lib/python3.9/site-packages (from opendatasets) (8.0.3)\n",
      "Requirement already satisfied: tqdm in /Users/guptaaryan16/opt/anaconda3/lib/python3.9/site-packages (from opendatasets) (4.62.3)\n",
      "Requirement already satisfied: six>=1.10 in /Users/guptaaryan16/opt/anaconda3/lib/python3.9/site-packages (from kaggle->opendatasets) (1.16.0)\n",
      "Requirement already satisfied: certifi in /Users/guptaaryan16/opt/anaconda3/lib/python3.9/site-packages (from kaggle->opendatasets) (2021.10.8)\n",
      "Requirement already satisfied: python-dateutil in /Users/guptaaryan16/opt/anaconda3/lib/python3.9/site-packages (from kaggle->opendatasets) (2.8.2)\n",
      "Requirement already satisfied: requests in /Users/guptaaryan16/opt/anaconda3/lib/python3.9/site-packages (from kaggle->opendatasets) (2.26.0)\n",
      "Requirement already satisfied: python-slugify in /Users/guptaaryan16/opt/anaconda3/lib/python3.9/site-packages (from kaggle->opendatasets) (5.0.2)\n",
      "Requirement already satisfied: urllib3 in /Users/guptaaryan16/opt/anaconda3/lib/python3.9/site-packages (from kaggle->opendatasets) (1.26.7)\n",
      "Requirement already satisfied: text-unidecode>=1.3 in /Users/guptaaryan16/opt/anaconda3/lib/python3.9/site-packages (from python-slugify->kaggle->opendatasets) (1.3)\n",
      "Requirement already satisfied: charset-normalizer~=2.0.0 in /Users/guptaaryan16/opt/anaconda3/lib/python3.9/site-packages (from requests->kaggle->opendatasets) (2.0.4)\n",
      "Requirement already satisfied: idna<4,>=2.5 in /Users/guptaaryan16/opt/anaconda3/lib/python3.9/site-packages (from requests->kaggle->opendatasets) (3.2)\n",
      "Building wheels for collected packages: kaggle\n",
      "  Building wheel for kaggle (setup.py) ... \u001b[?25ldone\n",
      "\u001b[?25h  Created wheel for kaggle: filename=kaggle-1.5.12-py3-none-any.whl size=73051 sha256=a9eb65580f77e13a4ca98aef9aebb25ee7231cf195217d218aba17982c8ea6de\n",
      "  Stored in directory: /Users/guptaaryan16/Library/Caches/pip/wheels/ac/b2/c3/fa4706d469b5879105991d1c8be9a3c2ef329ba9fe2ce5085e\n",
      "Successfully built kaggle\n",
      "Installing collected packages: kaggle, opendatasets\n",
      "Successfully installed kaggle-1.5.12 opendatasets-0.1.22\n"
     ]
    }
   ],
   "source": [
    "!pip install opendatasets"
   ]
  },
  {
   "cell_type": "code",
   "execution_count": 2,
   "metadata": {
    "collapsed": false,
    "pycharm": {
     "name": "#%%\n"
    }
   },
   "outputs": [
    {
     "name": "stdout",
     "output_type": "stream",
     "text": [
      "Please provide your Kaggle credentials to download this dataset. Learn more: http://bit.ly/kaggle-creds\n",
      "Your Kaggle username: aryagup\n",
      "Your Kaggle Key: ··········\n",
      "Downloading glass-bangle-defect-detection-classification.zip to ./glass-bangle-defect-detection-classification\n"
     ]
    },
    {
     "name": "stderr",
     "output_type": "stream",
     "text": [
      "100%|██████████| 1.31G/1.31G [00:49<00:00, 28.6MB/s]\n"
     ]
    },
    {
     "name": "stdout",
     "output_type": "stream",
     "text": [
      "\n"
     ]
    }
   ],
   "source": [
    "import opendatasets as od\n",
    "od.download(\n",
    "\t\"https://www.kaggle.com/datasets/almique/glass-bangle-defect-detection-classification\")"
   ]
  },
  {
   "cell_type": "code",
   "execution_count": 4,
   "metadata": {
    "colab": {
     "base_uri": "https://localhost:8080/"
    },
    "id": "EFg7VIxX4KEZ",
    "outputId": "1290fef4-48e9-4c06-abae-89f420daa3c1"
   },
   "outputs": [
    {
     "name": "stdout",
     "output_type": "stream",
     "text": [
      "['broken', 'defect', 'good']\n"
     ]
    }
   ],
   "source": [
    "mean = np.array([0.5, 0.5, 0.5])\n",
    "std = np.array([0.25, 0.25, 0.25])\n",
    "data_transforms = {\n",
    "    'dataset': transforms.Compose([\n",
    "        transforms.RandomHorizontalFlip(),\n",
    "        transforms.Resize(500),\n",
    "        transforms.ToTensor(),\n",
    "        transforms.Normalize(mean, std)\n",
    "    ]),\n",
    "}\n",
    "\n",
    "data_dir = './glass-bangle-defect-detection-classification'\n",
    "image_datasets = {x: datasets.ImageFolder(os.path.join(data_dir, x),\n",
    "                                          data_transforms[x])\n",
    "                  for x in ['dataset']}\n",
    "dataloaders = {x: torch.utils.data.DataLoader(image_datasets[x], batch_size=5,\n",
    "                                             shuffle=True, num_workers=0)\n",
    "              for x in ['dataset']}\n",
    "dataset_sizes = {x: len(image_datasets[x]) for x in ['dataset']}\n",
    "class_names = image_datasets['dataset'].classes\n",
    "\n",
    "device = torch.device(\"cuda\" if torch.cuda.is_available else \"cpu\")\n",
    "print(class_names)"
   ]
  },
  {
   "cell_type": "code",
   "execution_count": 5,
   "metadata": {
    "colab": {
     "base_uri": "https://localhost:8080/"
    },
    "id": "vFV5c5mx4MtJ",
    "outputId": "38a9e81c-e8ef-459e-b4ef-0f4fa5571c1c"
   },
   "outputs": [
    {
     "data": {
      "text/plain": [
       "device(type='cuda')"
      ]
     },
     "execution_count": 5,
     "metadata": {},
     "output_type": "execute_result"
    }
   ],
   "source": [
    "device"
   ]
  },
  {
   "cell_type": "code",
   "execution_count": 6,
   "metadata": {
    "id": "a4p66qeP4OuR"
   },
   "outputs": [],
   "source": [
    "def imshow(inp, title):\n",
    "    \"\"\"Imshow for Tensor.\"\"\"\n",
    "    inp = inp.numpy().transpose((1, 2, 0))\n",
    "    inp = std * inp + mean\n",
    "    inp = np.clip(inp, 0, 1)\n",
    "    plt.imshow(inp)\n",
    "    plt.title(title)\n",
    "    plt.show()"
   ]
  },
  {
   "cell_type": "code",
   "execution_count": 7,
   "metadata": {
    "colab": {
     "base_uri": "https://localhost:8080/",
     "height": 131
    },
    "id": "x0E5I1dq4RhE",
    "outputId": "9474e736-1d58-418d-cf5b-776bbba7eda2"
   },
   "outputs": [
    {
     "data": {
      "image/png": "[encoded data removed]",
      "text/plain": [
       "<Figure size 432x288 with 1 Axes>"
      ]
     },
     "metadata": {
      "needs_background": "light"
     },
     "output_type": "display_data"
    }
   ],
   "source": [
    "# Get a batch of training data\n",
    "inputs, classes = next(iter(dataloaders['dataset']))\n",
    "\n",
    "# Make a grid from batch\n",
    "out = torchvision.utils.make_grid(inputs)\n",
    "\n",
    "imshow(out, title=[class_names[x] for x in classes])"
   ]
  },
  {
   "cell_type": "code",
   "execution_count": 8,
   "metadata": {
    "colab": {
     "base_uri": "https://localhost:8080/"
    },
    "id": "XnaP3Bgk4T17",
    "outputId": "9b86dcf7-38c4-4f5b-993a-a5a18c0c4cc7"
   },
   "outputs": [
    {
     "data": {
      "text/plain": [
       "torch.Size([5, 3, 500, 500])"
      ]
     },
     "execution_count": 8,
     "metadata": {},
     "output_type": "execute_result"
    }
   ],
   "source": [
    "inputs.shape"
   ]
  },
  {
   "cell_type": "code",
   "execution_count": 9,
   "metadata": {
    "id": "FqsxHamF4ZAX"
   },
   "outputs": [],
   "source": [
    "# Defining the convo-net for glass-bangle detection\n",
    "class ConvoNet(nn.Module):\n",
    "  def __init__(self):\n",
    "    super(ConvoNet, self).__init__()\n",
    "    self.conv1 = nn.Conv2d(3, 6, 251) \n",
    "    self.pool = nn.MaxPool2d(2,2)\n",
    "    self.fc1 = nn.Linear(6*125*125,1000)\n",
    "    self.fc2 = nn.Linear(1000, 3)\n",
    "  def forward(self, x):\n",
    "   # -> n, 3, 500, 500\n",
    "        x = self.pool(F.relu(self.conv1(x)))  # -> n, 6, 125, 125\n",
    "        x = x.view(-1, 6*125*125)            # -> n, 6*125*125\n",
    "        x = F.relu(self.fc1(x))               # -> n, 1000\n",
    "        x = self.fc2(x)                       # -> n, 3\n",
    "        return x\n",
    "model = ConvoNet().to(device)"
   ]
  },
  {
   "cell_type": "code",
   "execution_count": 10,
   "metadata": {
    "id": "P8-07zJ54Zqh"
   },
   "outputs": [],
   "source": [
    "# Hyperparameters\n",
    "num_epochs = 2\n",
    "batch_size = 5\n",
    "learning_rate = 0.001"
   ]
  },
  {
   "cell_type": "code",
   "execution_count": 11,
   "metadata": {
    "colab": {
     "base_uri": "https://localhost:8080/"
    },
    "id": "8fxwtNiG4bvY",
    "outputId": "66fefe03-e493-4595-dc4a-b4a3d44ff3c9"
   },
   "outputs": [
    {
     "name": "stdout",
     "output_type": "stream",
     "text": [
      "Epoch [1/2], Step [30/216], Loss: 1.0914\n",
      "Epoch [1/2], Step [60/216], Loss: 1.2196\n",
      "Epoch [1/2], Step [90/216], Loss: 1.0836\n",
      "Epoch [1/2], Step [120/216], Loss: 0.8709\n",
      "Epoch [1/2], Step [150/216], Loss: 1.0947\n",
      "Epoch [1/2], Step [180/216], Loss: 1.1169\n",
      "Epoch [1/2], Step [210/216], Loss: 1.0782\n",
      "Epoch [2/2], Step [30/216], Loss: 1.0760\n",
      "Epoch [2/2], Step [60/216], Loss: 0.8920\n",
      "Epoch [2/2], Step [90/216], Loss: 1.1081\n",
      "Epoch [2/2], Step [120/216], Loss: 0.8608\n",
      "Epoch [2/2], Step [150/216], Loss: 1.0618\n",
      "Epoch [2/2], Step [180/216], Loss: 1.3289\n",
      "Epoch [2/2], Step [210/216], Loss: 1.1370\n"
     ]
    }
   ],
   "source": [
    "criterion = nn.CrossEntropyLoss()\n",
    "optimizer = torch.optim.SGD(model.parameters(), lr = learning_rate)\n",
    "\n",
    "n_total_steps = len(dataloaders['dataset'])\n",
    "for epoch in range(num_epochs):\n",
    "  for i, (images, labels) in enumerate(dataloaders['dataset']):\n",
    "        images = images.to(device)\n",
    "        labels = labels.to(device)\n",
    "\n",
    "        # Forward pass\n",
    "        outputs = model(images)\n",
    "        loss = criterion(outputs, labels)\n",
    "\n",
    "        # Backward and optimize\n",
    "        optimizer.zero_grad()\n",
    "        loss.backward()\n",
    "        optimizer.step()\n",
    "\n",
    "        if (i+1) % 30 == 0:\n",
    "            print (f'Epoch [{epoch+1}/{num_epochs}], Step [{i+1}/{n_total_steps}], Loss: {loss.item():.4f}')"
   ]
  },
  {
   "cell_type": "code",
   "execution_count": 12,
   "metadata": {
    "colab": {
     "base_uri": "https://localhost:8080/"
    },
    "id": "B6Ql9sjFaQyr",
    "outputId": "2f71e8c4-175b-4c5e-d949-b04461f1fcf0"
   },
   "outputs": [
    {
     "name": "stdout",
     "output_type": "stream",
     "text": [
      "Finished Training\n"
     ]
    }
   ],
   "source": [
    "print('Finished Training')\n",
    "PATH = './cnn.pth'\n",
    "torch.save(model.state_dict(), PATH)"
   ]
  },
  {
   "cell_type": "code",
   "execution_count": 13,
   "metadata": {
    "id": "WQOL2PFVDDeh"
   },
   "outputs": [],
   "source": [
    "mean = np.array([0.5, 0.5, 0.5])\n",
    "std = np.array([0.25, 0.25, 0.25])\n",
    "data_transforms = {\n",
    "    'dataset': transforms.Compose([\n",
    "        transforms.RandomHorizontalFlip(),\n",
    "        transforms.Resize(500),\n",
    "        transforms.ToTensor(),\n",
    "        transforms.Normalize(mean, std)\n",
    "    ]),\n",
    "}\n",
    "\n",
    "data_dir = './glass-bangle-defect-detection-classification'\n",
    "image_datasets = {x: datasets.ImageFolder(os.path.join(data_dir, x),\n",
    "                                          data_transforms[x])\n",
    "                  for x in ['dataset']}\n",
    "test_loader = {x: torch.utils.data.DataLoader(image_datasets[x], batch_size=5,\n",
    "                                             shuffle=True, num_workers=0)\n",
    "              for x in ['dataset']}"
   ]
  },
  {
   "cell_type": "code",
   "execution_count": 24,
   "metadata": {
    "colab": {
     "base_uri": "https://localhost:8080/"
    },
    "id": "UWdWKaq_X6YZ",
    "outputId": "c7ae2ef1-3f3c-4c84-e06c-d16382c25b19"
   },
   "outputs": [
    {
     "name": "stdout",
     "output_type": "stream",
     "text": [
      "Accuracy of the network: 53.54838709677419 %\n"
     ]
    }
   ],
   "source": [
    "with torch.no_grad():\n",
    "    n_correct = 0\n",
    "    n_samples = 0\n",
    "    n_class_correct = [0 for i in range(10)]\n",
    "    n_class_samples = [0 for i in range(10)]\n",
    "    j = 0\n",
    "    for images, labels in test_loader['dataset']:\n",
    "        images = images.to(device)\n",
    "        labels = labels.to(device)\n",
    "        outputs = model(images)\n",
    "        # max returns (value ,index)\n",
    "        _, predicted = torch.max(outputs, 1)\n",
    "        n_samples += labels.size(0)\n",
    "        n_correct += (predicted == labels).sum().item()\n",
    "        for i in range(batch_size):\n",
    "            label = labels[i]\n",
    "            pred = predicted[i]\n",
    "            if (label == pred):\n",
    "                n_class_correct[label] += 1\n",
    "                n_class_samples[label] += 1\n",
    "        j += batch_size\n",
    "        if j>150: \n",
    "          break\n",
    "\n",
    "    acc = 100.0 * n_correct / n_samples\n",
    "    print(f'Accuracy of the network: {acc} %')\n"
   ]
  },
  {
   "cell_type": "code",
   "execution_count": 25,
   "metadata": {
    "colab": {
     "base_uri": "https://localhost:8080/"
    },
    "id": "rnUaLyisrPDh",
    "outputId": "ace1a015-b0c6-4665-a209-d3bc58f0f8e2"
   },
   "outputs": [
    {
     "data": {
      "text/plain": [
       "OrderedDict([('conv1.weight',\n",
       "              tensor([[[[-1.0967e-04,  1.2072e-03, -2.3525e-05,  ...,  1.2045e-03,\n",
       "                         -2.3594e-03, -8.8956e-04],\n",
       "                        [ 9.1516e-04,  1.9026e-03,  5.6721e-05,  ..., -7.9914e-04,\n",
       "                         -1.7986e-03,  2.0826e-03],\n",
       "                        [ 1.0797e-03, -1.6712e-03, -7.4826e-04,  ...,  1.4258e-03,\n",
       "                         -4.2368e-04, -9.4166e-04],\n",
       "                        ...,\n",
       "                        [-1.9265e-03, -6.7385e-04,  2.0933e-03,  ...,  7.4024e-04,\n",
       "                          1.2030e-03,  5.3905e-04],\n",
       "                        [ 1.5110e-03, -1.9367e-03,  1.7403e-03,  ..., -1.2362e-03,\n",
       "                          2.0913e-03, -6.0342e-04],\n",
       "                        [ 2.1545e-03, -9.7201e-04, -1.6822e-03,  ..., -9.2998e-04,\n",
       "                          1.2459e-03, -1.6176e-03]],\n",
       "              \n",
       "                       [[-1.3323e-03,  2.0071e-03,  3.5063e-04,  ..., -1.9432e-03,\n",
       "                          1.5765e-03,  1.7482e-03],\n",
       "                        [ 2.2548e-03,  4.4524e-04,  1.3493e-03,  ..., -1.2124e-03,\n",
       "                          1.2526e-03,  1.7200e-03],\n",
       "                        [ 1.0657e-04,  6.5035e-04,  2.1292e-05,  ..., -9.9588e-04,\n",
       "                         -1.8085e-03, -1.7155e-03],\n",
       "                        ...,\n",
       "                        [-1.2119e-03,  8.8294e-04, -9.7249e-05,  ...,  1.4576e-03,\n",
       "                         -2.0150e-03, -2.2749e-03],\n",
       "                        [-2.2294e-03,  6.0021e-05, -1.2545e-03,  ..., -8.3227e-04,\n",
       "                         -9.8440e-04,  3.2799e-04],\n",
       "                        [ 8.4515e-05, -2.3147e-05,  8.7131e-04,  ..., -4.6957e-04,\n",
       "                          1.7591e-05, -9.6477e-04]],\n",
       "              \n",
       "                       [[-1.8373e-03, -1.4233e-03, -7.4991e-04,  ..., -6.8004e-05,\n",
       "                         -1.1258e-03, -1.0163e-03],\n",
       "                        [-5.1054e-04,  2.2401e-03, -1.4663e-03,  ..., -1.3497e-03,\n",
       "                          1.2190e-03,  2.2323e-03],\n",
       "                        [-1.2768e-03,  2.2241e-05,  9.3527e-04,  ..., -1.5877e-03,\n",
       "                         -2.1958e-03, -6.3666e-05],\n",
       "                        ...,\n",
       "                        [ 9.8234e-04,  1.0280e-03,  1.1151e-03,  ..., -2.0050e-03,\n",
       "                          1.1839e-03,  2.5553e-05],\n",
       "                        [-3.4881e-04, -1.5056e-03,  2.9623e-04,  ...,  8.4897e-04,\n",
       "                         -7.1645e-04, -8.0728e-04],\n",
       "                        [-4.8010e-04,  1.7303e-03,  3.3176e-04,  ..., -3.5826e-04,\n",
       "                         -1.9357e-03,  1.4169e-03]]],\n",
       "              \n",
       "              \n",
       "                      [[[-4.1831e-04, -3.1217e-03, -1.1642e-03,  ...,  1.4735e-04,\n",
       "                         -1.1030e-03, -3.0916e-03],\n",
       "                        [-4.8978e-05,  9.9972e-04, -3.8120e-05,  ..., -3.4934e-03,\n",
       "                         -2.8353e-04,  3.9669e-04],\n",
       "                        [-7.2538e-04, -2.2527e-04, -3.2100e-03,  ..., -5.3833e-05,\n",
       "                         -5.0318e-04, -1.4324e-03],\n",
       "                        ...,\n",
       "                        [-1.0899e-03, -5.6277e-04, -2.8149e-03,  ..., -7.9805e-04,\n",
       "                         -3.5142e-03,  5.2413e-05],\n",
       "                        [-1.4070e-03, -2.7733e-03, -2.5020e-03,  ..., -1.4272e-03,\n",
       "                          8.9253e-04, -6.1273e-05],\n",
       "                        [-3.4549e-03, -3.5274e-04, -1.5996e-03,  ...,  2.7488e-04,\n",
       "                         -2.1337e-03, -2.5845e-04]],\n",
       "              \n",
       "                       [[-2.6684e-03, -2.5356e-03, -2.5003e-03,  ..., -2.0671e-03,\n",
       "                         -2.0223e-03, -1.7099e-03],\n",
       "                        [-2.9718e-03,  8.8848e-04, -4.9942e-04,  ..., -8.0376e-04,\n",
       "                         -2.6016e-03, -2.7140e-03],\n",
       "                        [ 8.9473e-04, -1.7378e-03, -1.8600e-03,  ..., -7.8307e-04,\n",
       "                         -1.9819e-03,  3.6825e-04],\n",
       "                        ...,\n",
       "                        [-3.3690e-03, -6.3188e-04, -4.3572e-04,  ...,  2.2466e-04,\n",
       "                         -3.6858e-05, -1.8722e-03],\n",
       "                        [-1.2553e-03, -4.9365e-04,  7.9134e-04,  ..., -1.8194e-03,\n",
       "                         -2.7673e-04, -2.9090e-03],\n",
       "                        [-2.4641e-03, -1.9447e-03, -3.5347e-03,  ..., -2.4287e-03,\n",
       "                         -2.4949e-03, -1.3446e-03]],\n",
       "              \n",
       "                       [[-1.9558e-03, -5.5192e-04, -8.1536e-04,  ...,  3.0837e-04,\n",
       "                          1.1031e-03, -3.3277e-04],\n",
       "                        [ 2.4910e-04,  7.2758e-04,  1.7150e-04,  ..., -1.2333e-03,\n",
       "                         -1.2453e-03, -2.3804e-04],\n",
       "                        [-1.3586e-03, -5.5278e-04, -9.2134e-04,  ..., -5.5762e-04,\n",
       "                         -2.5990e-03, -2.3085e-03],\n",
       "                        ...,\n",
       "                        [-1.9020e-04, -7.2108e-04, -1.2624e-03,  ..., -3.0667e-03,\n",
       "                          6.9451e-04,  9.4697e-04],\n",
       "                        [-2.8859e-03, -8.7415e-05, -5.4593e-04,  ...,  6.4050e-04,\n",
       "                          1.3822e-03,  3.4047e-04],\n",
       "                        [ 9.5977e-04, -2.2607e-03, -1.8473e-03,  ...,  3.5853e-04,\n",
       "                          1.3540e-03, -1.4353e-03]]],\n",
       "              \n",
       "              \n",
       "                      [[[-2.2956e-05, -1.9088e-03,  1.0156e-03,  ..., -7.7265e-04,\n",
       "                          2.0364e-03, -3.4420e-04],\n",
       "                        [ 1.1709e-03, -5.4764e-04, -9.7438e-04,  ...,  1.7679e-03,\n",
       "                          2.1734e-03,  8.1893e-04],\n",
       "                        [-1.6597e-03,  6.1756e-06, -8.7162e-04,  ..., -1.3383e-03,\n",
       "                          1.7903e-03, -1.8767e-03],\n",
       "                        ...,\n",
       "                        [ 2.2845e-04, -5.4406e-04, -2.0426e-03,  ..., -4.8277e-04,\n",
       "                          2.9252e-04, -2.1787e-03],\n",
       "                        [-7.3045e-04,  2.0930e-05,  1.2952e-03,  ..., -1.0753e-03,\n",
       "                          1.2418e-03, -1.2678e-03],\n",
       "                        [ 1.5255e-03,  1.0496e-03, -1.7029e-04,  ...,  1.2670e-03,\n",
       "                          1.3031e-03, -1.2375e-03]],\n",
       "              \n",
       "                       [[ 1.3450e-04,  1.4603e-03, -1.5691e-03,  ..., -2.1273e-03,\n",
       "                          4.6914e-04,  2.0786e-03],\n",
       "                        [-8.7927e-04, -1.2488e-03, -3.7346e-04,  ...,  1.0616e-04,\n",
       "                          2.2464e-03, -3.7069e-04],\n",
       "                        [-1.3952e-03, -1.6542e-03, -1.1056e-03,  ...,  2.2263e-03,\n",
       "                         -1.2196e-04,  3.1755e-04],\n",
       "                        ...,\n",
       "                        [ 2.0052e-03,  1.2198e-03,  1.6350e-03,  ..., -1.9499e-03,\n",
       "                         -2.2448e-03,  2.0837e-04],\n",
       "                        [ 1.8348e-03,  6.6462e-04,  1.4407e-04,  ..., -1.1708e-04,\n",
       "                         -7.6026e-04,  4.5390e-04],\n",
       "                        [ 1.7752e-03, -7.3605e-04, -3.5876e-04,  ...,  1.2045e-03,\n",
       "                         -1.9217e-03,  2.9348e-04]],\n",
       "              \n",
       "                       [[ 7.7759e-04, -1.7553e-03, -1.8693e-03,  ...,  9.7627e-04,\n",
       "                          1.1897e-03, -1.4964e-03],\n",
       "                        [-4.9375e-04, -1.6692e-03,  1.0176e-03,  ..., -6.9761e-04,\n",
       "                          2.2998e-03, -1.4390e-03],\n",
       "                        [-1.5797e-03, -3.5708e-04,  6.6644e-04,  ...,  5.6118e-05,\n",
       "                         -1.7988e-03,  8.9203e-04],\n",
       "                        ...,\n",
       "                        [ 2.0790e-04, -1.4864e-03, -5.5289e-04,  ..., -4.8289e-05,\n",
       "                          2.0075e-03, -1.1825e-03],\n",
       "                        [ 2.1490e-03, -1.5264e-03, -3.9721e-04,  ..., -7.1770e-04,\n",
       "                         -8.4881e-06, -8.3886e-04],\n",
       "                        [ 1.9900e-03, -1.7026e-03,  1.5111e-03,  ...,  1.8172e-03,\n",
       "                          5.6612e-04, -2.3397e-03]]],\n",
       "              \n",
       "              \n",
       "                      [[[ 1.7668e-03,  8.1577e-04, -8.6452e-04,  ..., -1.0360e-03,\n",
       "                         -3.6440e-04, -1.3134e-04],\n",
       "                        [-3.1185e-04, -2.1047e-03, -3.9321e-04,  ..., -5.1968e-04,\n",
       "                          1.1772e-03,  1.8257e-03],\n",
       "                        [-2.0408e-03, -5.3920e-04, -1.4865e-03,  ..., -1.3308e-03,\n",
       "                         -1.9735e-03, -1.9624e-03],\n",
       "                        ...,\n",
       "                        [-7.3001e-04,  1.9494e-03, -1.7787e-03,  ..., -1.0685e-04,\n",
       "                          5.7768e-04,  2.7465e-04],\n",
       "                        [ 1.9244e-03, -1.0026e-04,  7.9808e-04,  ..., -9.2164e-04,\n",
       "                         -4.5651e-04,  1.6725e-03],\n",
       "                        [-1.4363e-03, -8.1689e-04,  1.5277e-03,  ..., -4.6393e-04,\n",
       "                         -1.9038e-03, -1.9708e-03]],\n",
       "              \n",
       "                       [[ 3.3107e-04, -3.8531e-04, -1.7027e-03,  ...,  1.5450e-03,\n",
       "                         -7.1783e-04,  1.0798e-03],\n",
       "                        [ 6.1280e-04, -2.1252e-03, -2.0680e-03,  ..., -5.4632e-04,\n",
       "                          1.1725e-03,  1.3887e-03],\n",
       "                        [-1.2221e-03,  1.1348e-03,  2.0691e-03,  ..., -2.3994e-04,\n",
       "                         -5.4795e-04,  2.3280e-04],\n",
       "                        ...,\n",
       "                        [-2.3221e-03, -1.0417e-03,  1.5040e-03,  ...,  4.9724e-06,\n",
       "                         -2.3348e-03,  1.2071e-03],\n",
       "                        [-2.3584e-03,  1.0123e-04, -1.6031e-03,  ...,  1.6545e-03,\n",
       "                          1.6578e-03, -1.3329e-03],\n",
       "                        [ 1.8128e-03, -2.0710e-03,  1.0643e-04,  ...,  1.7186e-03,\n",
       "                         -2.3537e-03, -8.8576e-04]],\n",
       "              \n",
       "                       [[-5.9984e-04,  1.2463e-03,  1.1605e-03,  ..., -7.3848e-04,\n",
       "                         -9.9565e-05, -5.9448e-04],\n",
       "                        [-1.4738e-03,  1.8073e-04, -2.0620e-03,  ...,  6.8818e-04,\n",
       "                         -3.4639e-04, -2.0068e-04],\n",
       "                        [ 2.1105e-04, -1.5732e-03, -1.7046e-03,  ...,  9.6194e-05,\n",
       "                          1.5294e-03, -9.5308e-04],\n",
       "                        ...,\n",
       "                        [-1.3174e-03, -2.0829e-03, -1.9442e-03,  ..., -6.7648e-04,\n",
       "                         -9.7410e-05, -2.4125e-03],\n",
       "                        [ 1.9022e-03,  1.6638e-03, -6.8087e-05,  ..., -6.4177e-04,\n",
       "                          9.5915e-05,  6.7256e-04],\n",
       "                        [-3.7574e-04, -1.3653e-03, -3.7490e-05,  ..., -2.3577e-03,\n",
       "                         -3.7510e-05,  5.3449e-04]]],\n",
       "              \n",
       "              \n",
       "                      [[[-1.3884e-03, -2.0844e-03, -1.2708e-03,  ...,  1.4897e-04,\n",
       "                          4.7204e-05,  1.8416e-03],\n",
       "                        [ 2.0080e-03,  1.6778e-03,  1.1164e-03,  ..., -6.7034e-05,\n",
       "                         -1.8525e-03, -1.7145e-03],\n",
       "                        [-1.9920e-03,  4.0209e-04,  1.3549e-03,  ...,  6.4314e-04,\n",
       "                          1.3856e-03,  1.5481e-03],\n",
       "                        ...,\n",
       "                        [ 4.9511e-04,  1.6421e-03,  1.0419e-03,  ..., -1.2409e-03,\n",
       "                          1.5646e-03, -2.5972e-04],\n",
       "                        [ 1.6508e-03, -2.0129e-03, -7.1145e-04,  ..., -2.3946e-03,\n",
       "                         -2.3516e-03, -9.2937e-04],\n",
       "                        [-9.4146e-05, -1.3865e-03, -1.7190e-03,  ...,  1.2911e-03,\n",
       "                         -1.0130e-03, -1.2884e-03]],\n",
       "              \n",
       "                       [[ 1.0467e-03, -5.7399e-04, -2.1873e-03,  ..., -2.0565e-03,\n",
       "                          6.4633e-04, -1.3635e-03],\n",
       "                        [-1.1241e-03, -1.5982e-03, -2.9906e-04,  ...,  8.4090e-04,\n",
       "                          1.1236e-03,  1.9932e-03],\n",
       "                        [-1.3876e-03, -4.1275e-04, -9.6401e-04,  ...,  1.2274e-03,\n",
       "                         -4.6543e-04,  4.9971e-04],\n",
       "                        ...,\n",
       "                        [-1.5529e-03, -9.7131e-04,  1.0634e-03,  ...,  1.5078e-03,\n",
       "                          1.6423e-03,  2.4749e-04],\n",
       "                        [-2.1761e-04, -2.0313e-03, -4.4645e-05,  ..., -1.7577e-04,\n",
       "                         -1.7864e-03, -1.8995e-03],\n",
       "                        [-8.0300e-04,  1.5455e-04,  6.7785e-04,  ..., -1.9175e-03,\n",
       "                          1.1735e-03,  1.4630e-03]],\n",
       "              \n",
       "                       [[-1.6407e-03,  1.3972e-03, -7.5518e-04,  ..., -3.3547e-04,\n",
       "                          1.3079e-04, -1.5403e-03],\n",
       "                        [ 5.3607e-04,  1.4819e-04,  8.7312e-04,  ...,  1.6496e-03,\n",
       "                         -1.5926e-03,  8.9993e-05],\n",
       "                        [-9.2593e-04,  1.1019e-04, -1.3372e-03,  ...,  9.9413e-04,\n",
       "                         -1.7658e-03, -1.0409e-03],\n",
       "                        ...,\n",
       "                        [-1.6145e-03, -2.5170e-03, -4.8199e-04,  ...,  3.4005e-04,\n",
       "                          1.8703e-03, -1.8576e-03],\n",
       "                        [ 2.0374e-04, -2.7419e-04,  9.9283e-04,  ..., -2.2749e-03,\n",
       "                          1.3053e-03, -1.5478e-03],\n",
       "                        [-5.7609e-04,  4.5096e-04, -1.8472e-03,  ...,  9.9140e-04,\n",
       "                         -5.1490e-05, -1.9355e-03]]],\n",
       "              \n",
       "              \n",
       "                      [[[-1.3465e-03, -1.5980e-03, -3.5365e-04,  ...,  1.9986e-03,\n",
       "                         -1.7241e-03,  1.3963e-03],\n",
       "                        [ 1.2138e-03,  1.6064e-04, -3.5686e-04,  ..., -7.1353e-04,\n",
       "                          4.9800e-05,  1.9175e-03],\n",
       "                        [-3.9431e-04, -2.2043e-03, -2.1170e-03,  ...,  1.0270e-03,\n",
       "                          1.2194e-03, -2.1969e-03],\n",
       "                        ...,\n",
       "                        [ 1.0200e-03,  2.5439e-04,  6.0345e-04,  ...,  1.9674e-03,\n",
       "                         -1.1452e-03, -8.5895e-04],\n",
       "                        [-2.5724e-03, -2.3489e-03,  5.2522e-04,  ..., -1.3275e-03,\n",
       "                         -4.2699e-04,  1.3146e-04],\n",
       "                        [-7.6912e-04,  1.8148e-03,  8.2616e-04,  ...,  4.6397e-04,\n",
       "                          1.6669e-04,  8.5535e-04]],\n",
       "              \n",
       "                       [[-1.9358e-03, -1.2885e-03, -2.3521e-03,  ..., -7.3539e-04,\n",
       "                          1.6314e-03,  7.4467e-04],\n",
       "                        [ 1.7263e-03, -1.5883e-03,  7.8537e-04,  ...,  1.3564e-03,\n",
       "                         -1.9420e-03,  2.0535e-03],\n",
       "                        [-4.0736e-04,  1.5870e-03,  2.1142e-03,  ..., -2.1865e-03,\n",
       "                         -1.0313e-03,  9.9594e-04],\n",
       "                        ...,\n",
       "                        [ 5.6155e-04, -2.5470e-03,  6.3019e-04,  ...,  2.0979e-03,\n",
       "                          7.1407e-05, -2.7458e-05],\n",
       "                        [-8.8296e-05, -2.3112e-03,  4.3505e-04,  ..., -2.7177e-04,\n",
       "                         -2.2579e-03,  1.1020e-03],\n",
       "                        [-1.3767e-03, -9.8825e-04,  7.8187e-04,  ...,  1.1688e-03,\n",
       "                         -4.6408e-04, -5.6323e-04]],\n",
       "              \n",
       "                       [[-7.5862e-04,  1.6746e-03, -1.8029e-03,  ..., -1.2726e-03,\n",
       "                          1.7283e-03, -1.5382e-04],\n",
       "                        [ 5.9953e-04, -1.1758e-03,  2.0647e-03,  ..., -7.3574e-04,\n",
       "                         -1.7872e-03,  6.1248e-04],\n",
       "                        [-9.3658e-04, -9.4046e-04,  1.4411e-03,  ..., -1.9232e-03,\n",
       "                          1.3715e-03, -1.5047e-03],\n",
       "                        ...,\n",
       "                        [-2.3060e-03,  9.2757e-04, -1.2326e-03,  ...,  1.5045e-03,\n",
       "                         -7.5525e-04,  1.5279e-03],\n",
       "                        [-3.5658e-04,  6.6597e-04,  6.8968e-04,  ...,  2.0441e-03,\n",
       "                         -1.3931e-03,  1.1520e-03],\n",
       "                        [-5.2906e-04, -1.1358e-03, -3.9017e-04,  ...,  2.5940e-04,\n",
       "                          5.9612e-04, -6.7156e-05]]]], device='cuda:0')),\n",
       "             ('conv1.bias',\n",
       "              tensor([-0.0003, -0.0060, -0.0018, -0.0018,  0.0003, -0.0011], device='cuda:0')),\n",
       "             ('fc1.weight',\n",
       "              tensor([[-0.0024, -0.0025,  0.0011,  ...,  0.0002,  0.0027, -0.0015],\n",
       "                      [-0.0005, -0.0019, -0.0023,  ...,  0.0009, -0.0011,  0.0027],\n",
       "                      [ 0.0024, -0.0032, -0.0023,  ..., -0.0031,  0.0009, -0.0003],\n",
       "                      ...,\n",
       "                      [-0.0010,  0.0021, -0.0012,  ...,  0.0020, -0.0008, -0.0015],\n",
       "                      [ 0.0026,  0.0013,  0.0004,  ..., -0.0022,  0.0026,  0.0011],\n",
       "                      [-0.0009, -0.0025,  0.0011,  ..., -0.0003,  0.0012, -0.0021]],\n",
       "                     device='cuda:0')),\n",
       "             ('fc1.bias',\n",
       "              tensor([ 5.3875e-03, -5.5500e-06,  1.4987e-03, -3.2222e-03, -1.2679e-03,\n",
       "                      -3.8891e-05, -2.7914e-03, -2.2395e-03,  2.9172e-03,  5.4159e-04,\n",
       "                      -2.9463e-03,  1.9085e-03, -8.3563e-04, -1.2810e-04, -1.0610e-03,\n",
       "                      -1.6332e-03,  4.7547e-03,  2.3026e-03,  3.1242e-03, -8.5698e-04,\n",
       "                      -2.1718e-03, -2.3139e-03, -2.1062e-03, -2.4777e-03,  4.6354e-03,\n",
       "                       1.4747e-03,  4.9484e-06,  1.4662e-03, -2.4895e-03,  1.7562e-03,\n",
       "                      -1.1740e-03,  6.9737e-04,  1.7777e-03, -1.3711e-03,  2.7851e-03,\n",
       "                       4.6137e-04, -1.5846e-03,  9.3291e-04, -8.2442e-06, -1.0756e-03,\n",
       "                       1.5905e-03, -1.5573e-04, -1.2442e-04,  6.5792e-04,  2.7406e-03,\n",
       "                      -2.2989e-03,  2.6346e-03, -1.8133e-03, -2.7325e-05,  4.0148e-03,\n",
       "                      -1.3387e-03, -1.2112e-03,  2.6637e-03, -2.7654e-03,  2.8154e-03,\n",
       "                      -2.4816e-03, -8.7370e-06,  6.8323e-04, -2.9643e-03, -1.0904e-03,\n",
       "                      -2.9201e-03, -2.0949e-03,  3.7251e-03,  2.3444e-04, -8.3423e-04,\n",
       "                      -2.1184e-03, -3.0628e-04, -1.2772e-03, -7.9782e-04, -5.3067e-04,\n",
       "                      -8.0362e-05, -9.8648e-04,  2.2421e-03, -1.3947e-03,  1.2929e-03,\n",
       "                       7.9488e-05,  2.1135e-03,  7.9386e-04,  1.1145e-03,  8.4638e-04,\n",
       "                      -1.2787e-03, -1.8353e-03, -1.3209e-03,  4.8084e-05, -1.5400e-04,\n",
       "                       2.5681e-04, -2.7557e-03, -2.4758e-03,  1.2362e-03,  4.9735e-03,\n",
       "                      -1.9313e-03,  1.1313e-03,  2.7250e-03,  2.4547e-03,  1.5784e-03,\n",
       "                      -3.0591e-03,  2.1122e-03, -1.8184e-03, -1.0430e-03, -2.2173e-03,\n",
       "                      -1.2988e-03,  3.7874e-04, -1.3818e-03, -5.5964e-04, -1.1893e-04,\n",
       "                       5.0989e-04,  2.7731e-03,  3.0666e-03,  1.8594e-03, -2.3277e-03,\n",
       "                      -2.0820e-03, -9.6494e-05, -1.0837e-03,  4.1526e-04, -1.2765e-03,\n",
       "                      -1.2856e-03, -2.0736e-03,  4.2771e-03, -1.5511e-03, -7.5219e-04,\n",
       "                      -4.4228e-04, -1.2244e-03, -1.7127e-03, -1.8861e-03, -1.8393e-04,\n",
       "                      -2.0217e-05,  2.0492e-03,  2.7896e-03, -1.4349e-03,  1.3196e-03,\n",
       "                       1.8110e-03, -2.4941e-03,  2.1992e-04,  1.9011e-03, -2.3817e-03,\n",
       "                       3.2603e-04, -6.3250e-04, -5.0719e-05,  3.1522e-03, -1.8931e-03,\n",
       "                       3.2143e-03,  7.9613e-04,  1.4134e-03, -2.6320e-03, -1.3341e-03,\n",
       "                       9.1365e-04, -1.7316e-03, -2.8986e-03,  3.0571e-04,  1.0964e-03,\n",
       "                       5.6832e-04,  1.9689e-03,  5.7141e-04, -1.4657e-03,  3.7132e-03,\n",
       "                      -1.8327e-03,  3.7571e-03, -1.0084e-03,  1.0155e-03,  2.9073e-03,\n",
       "                       2.0041e-03,  1.8758e-03, -1.0636e-05,  1.5399e-04,  6.8775e-04,\n",
       "                       4.4000e-03, -8.6720e-04, -1.0427e-03, -1.4961e-03, -1.9626e-03,\n",
       "                      -1.0981e-04,  2.7499e-03,  4.3176e-03, -2.7166e-03, -1.7235e-03,\n",
       "                      -1.3076e-03, -8.8847e-04, -2.6390e-03, -2.6168e-03, -2.8628e-05,\n",
       "                      -1.2825e-03, -1.0736e-04, -4.5829e-04, -8.1771e-06,  1.7910e-03,\n",
       "                       2.6920e-03, -1.1929e-03, -2.9274e-03, -3.3474e-03,  1.6273e-03,\n",
       "                       1.2283e-03, -2.6679e-03, -1.7535e-04,  8.9377e-04, -3.1714e-03,\n",
       "                       5.6349e-04, -1.2640e-03, -9.8594e-04,  3.1840e-03, -2.2289e-03,\n",
       "                      -2.7777e-03,  1.2532e-03, -2.8010e-03, -2.4382e-03, -1.2180e-03,\n",
       "                      -2.0237e-03,  2.0512e-03,  2.3251e-03, -2.3610e-05, -1.7139e-03,\n",
       "                      -2.9793e-03,  2.8025e-03,  5.4869e-04,  9.8294e-04,  1.5405e-03,\n",
       "                      -2.2043e-05,  1.5462e-03, -2.6643e-03,  2.8264e-03,  3.7977e-03,\n",
       "                      -6.5254e-04, -1.1868e-03, -2.3232e-03, -2.1106e-03,  3.4387e-03,\n",
       "                      -1.3056e-04,  3.7986e-03,  3.6096e-03,  3.6157e-03,  9.2949e-04,\n",
       "                      -5.5399e-04, -2.5490e-03, -6.8701e-04, -3.5356e-04, -2.7936e-03,\n",
       "                       4.6867e-04,  2.3207e-03, -7.7781e-04, -1.0042e-03, -2.1802e-03,\n",
       "                      -1.2806e-03,  5.0659e-04, -1.0977e-03,  4.7342e-04,  2.7389e-03,\n",
       "                      -5.9129e-05, -2.4541e-03, -2.1338e-03, -7.1995e-05, -2.2324e-03,\n",
       "                       3.1217e-03, -1.1205e-03,  1.5308e-03,  1.1745e-03, -1.5734e-03,\n",
       "                      -2.7062e-03, -8.1644e-04,  8.2249e-04, -1.5451e-03,  1.4366e-03,\n",
       "                       3.7520e-03, -5.4239e-05,  1.3170e-03, -8.2524e-05, -2.4388e-03,\n",
       "                       5.0861e-04, -2.0931e-03, -8.5436e-04,  9.8261e-04, -1.7927e-03,\n",
       "                       4.5000e-03,  2.9437e-03,  1.4114e-03, -7.7298e-04, -1.1770e-03,\n",
       "                      -1.2142e-03, -1.5372e-03, -1.7760e-03, -2.3239e-03,  6.5250e-04,\n",
       "                      -1.2455e-03, -2.7808e-03,  5.0496e-03,  3.3372e-03, -1.6090e-03,\n",
       "                      -2.6062e-03, -2.9817e-03, -8.5243e-04,  1.5471e-03,  1.8930e-03,\n",
       "                      -1.1583e-03,  1.7106e-03, -1.8333e-05, -2.5714e-03,  1.3904e-03,\n",
       "                      -2.2444e-03,  2.6550e-03, -4.4091e-04, -3.1475e-03, -2.5081e-03,\n",
       "                       1.0560e-03,  3.7177e-03, -3.1649e-03,  1.4656e-03, -1.7642e-03,\n",
       "                       2.2550e-03, -2.7154e-03, -3.6777e-05, -9.6978e-06, -1.5302e-03,\n",
       "                      -1.7779e-03, -9.9520e-05,  5.4017e-03,  5.1016e-03, -8.4772e-04,\n",
       "                      -3.1401e-03,  2.2888e-03, -1.4225e-03, -1.3577e-03,  1.4747e-03,\n",
       "                       1.5769e-03,  2.0674e-03,  2.1066e-03,  2.9404e-03,  2.2294e-03,\n",
       "                       1.6816e-03, -9.9443e-04,  2.3806e-03, -1.4192e-03, -3.7128e-05,\n",
       "                       1.7166e-04, -6.2487e-04, -2.1336e-04, -7.3872e-04, -7.8050e-04,\n",
       "                      -1.3951e-05,  1.2474e-03, -3.1988e-03, -1.0913e-03,  8.7960e-04,\n",
       "                       2.6675e-03, -4.7337e-04,  1.8683e-03, -1.5945e-04, -1.3053e-03,\n",
       "                       1.8979e-03, -2.5112e-03, -7.4930e-06, -4.8602e-05, -2.5834e-03,\n",
       "                       1.6988e-03, -2.7796e-03, -2.3544e-03, -2.2948e-04, -9.4274e-04,\n",
       "                       3.4633e-03, -3.1128e-03, -1.2665e-03, -3.7862e-04,  5.4348e-04,\n",
       "                       2.0089e-03, -2.1484e-03,  1.7075e-03,  2.2475e-04, -5.6249e-04,\n",
       "                       3.1914e-03,  5.4420e-04,  8.5871e-05, -5.4131e-05, -1.6213e-03,\n",
       "                      -3.2492e-03, -1.8460e-04, -2.7036e-03, -5.3245e-05, -2.6335e-03,\n",
       "                      -8.3679e-04,  3.9677e-03, -7.2883e-05, -6.5427e-04, -2.1782e-03,\n",
       "                       2.7318e-03, -2.9143e-03, -2.7396e-03, -2.7748e-03, -1.4206e-03,\n",
       "                      -2.6013e-03,  1.7037e-03, -5.6111e-04, -2.0487e-05, -2.5648e-03,\n",
       "                       2.4153e-03,  3.9341e-03, -2.3260e-03, -2.1591e-03, -1.2955e-03,\n",
       "                       3.6420e-03,  1.9257e-03, -1.5387e-03, -4.5250e-05, -4.3762e-05,\n",
       "                      -2.0256e-06, -1.5833e-03, -3.0733e-03, -7.6337e-05, -8.8353e-04,\n",
       "                      -8.1801e-05,  9.0843e-04,  4.5072e-04, -1.3869e-05, -1.2133e-03,\n",
       "                      -1.9799e-04, -3.8471e-05,  1.6070e-03,  1.1298e-04, -2.4544e-03,\n",
       "                      -3.0119e-03, -2.0804e-03,  4.6283e-04,  2.2758e-03,  3.1615e-04,\n",
       "                       7.2357e-04, -3.2069e-03, -3.1756e-03,  1.2505e-03,  5.0903e-03,\n",
       "                      -2.0130e-03, -2.6715e-03, -1.5613e-03, -2.1582e-03, -2.5135e-04,\n",
       "                      -7.3780e-04,  2.7774e-05,  2.8831e-03,  1.3547e-03,  6.6798e-03,\n",
       "                       2.7988e-04, -3.7341e-05,  1.2576e-03, -5.3436e-04, -1.6732e-03,\n",
       "                       2.6687e-03, -6.0142e-06, -1.3408e-05, -1.7504e-03,  6.9368e-04,\n",
       "                      -8.2556e-04, -1.2962e-03, -2.1479e-05, -1.3797e-03,  4.9652e-03,\n",
       "                      -1.3783e-04, -1.3703e-03, -7.3631e-04, -2.3115e-05,  9.3924e-04,\n",
       "                       4.7770e-04, -1.6463e-03,  2.3773e-03, -2.1889e-03,  1.8340e-03,\n",
       "                      -3.1291e-05, -1.1906e-04,  6.1855e-05,  5.3857e-04,  2.7762e-03,\n",
       "                       1.4112e-03, -2.2886e-03,  2.1969e-03, -2.2532e-04,  2.3627e-04,\n",
       "                      -7.5133e-04, -6.2970e-04,  1.4519e-03, -1.0085e-04, -3.0037e-03,\n",
       "                      -2.6889e-03, -2.5004e-03,  2.3186e-03,  1.3942e-03, -2.7641e-03,\n",
       "                      -9.6292e-06, -1.2418e-03, -1.7381e-03,  1.4703e-03,  1.7272e-03,\n",
       "                      -2.1711e-03, -4.7612e-04,  1.5237e-03, -5.2745e-05, -4.8485e-04,\n",
       "                       2.6450e-03,  2.5841e-03, -2.1969e-04,  2.6628e-03,  1.6365e-03,\n",
       "                      -2.3375e-03, -1.6858e-03,  9.4629e-04, -1.6353e-03, -8.9636e-04,\n",
       "                       1.1523e-03,  3.8494e-03, -1.8784e-03,  6.1333e-04, -1.0996e-04,\n",
       "                       1.5544e-03, -2.2938e-05, -1.2602e-03, -2.7085e-03, -1.4062e-03,\n",
       "                       2.8668e-03, -1.4292e-03, -1.0635e-03,  1.1579e-03, -3.8319e-04,\n",
       "                      -1.7684e-03,  1.2364e-03, -2.2583e-03, -4.6563e-04,  1.8605e-03,\n",
       "                       1.0724e-03, -1.9687e-05, -1.8437e-03, -2.2122e-03, -6.5052e-04,\n",
       "                      -1.3783e-03, -1.3962e-04, -2.9829e-03,  1.9164e-03,  1.7457e-03,\n",
       "                      -2.4773e-03,  4.6798e-03,  6.8506e-04,  4.5513e-04, -2.4411e-03,\n",
       "                      -3.1181e-03, -8.5620e-06,  1.5905e-03,  1.9172e-03,  2.0658e-03,\n",
       "                      -6.1056e-04, -1.7416e-03, -1.3079e-03,  2.0676e-03,  1.9130e-03,\n",
       "                      -1.1130e-03,  3.9990e-04, -1.1123e-03, -1.6112e-03, -2.1011e-05,\n",
       "                      -3.2777e-04,  2.2554e-03,  1.1925e-03,  4.2022e-03, -7.6269e-04,\n",
       "                      -7.6219e-05, -2.8730e-03, -2.6551e-03, -2.4189e-03,  2.9605e-03,\n",
       "                       1.2095e-03,  1.8394e-03,  8.3326e-04, -3.1613e-03,  1.9007e-03,\n",
       "                      -2.2029e-03, -2.9725e-03, -1.3582e-03, -1.0295e-03, -2.0838e-04,\n",
       "                      -5.7237e-04, -3.2108e-03, -1.4874e-03,  1.7733e-04,  3.1527e-03,\n",
       "                       6.3939e-04,  2.3402e-03, -2.0697e-03, -5.6063e-04, -2.1940e-04,\n",
       "                      -2.8958e-03, -2.0996e-03, -3.2060e-03,  3.4927e-03, -3.2345e-03,\n",
       "                      -1.1567e-03, -1.4963e-03, -1.9865e-03, -2.8337e-03,  1.4323e-03,\n",
       "                       1.3819e-03, -1.5387e-03,  9.1413e-04, -2.4978e-03, -9.0525e-04,\n",
       "                       3.1793e-03,  1.8013e-03,  1.5929e-03,  1.8416e-03, -2.2875e-03,\n",
       "                      -1.0077e-03, -1.8404e-03,  3.7773e-03,  3.8261e-04, -1.6445e-03,\n",
       "                      -6.1791e-05, -1.2483e-03,  4.0953e-03, -2.6697e-03, -2.4983e-03,\n",
       "                      -1.2014e-04, -5.5746e-04,  2.5358e-03,  1.6572e-03, -3.8864e-06,\n",
       "                      -2.6221e-04, -5.0824e-04,  2.4302e-03,  2.0263e-03, -1.4758e-03,\n",
       "                       6.9598e-04, -2.4741e-03, -4.6036e-04,  4.3608e-03, -1.1810e-03,\n",
       "                      -9.1482e-04,  3.3928e-03, -7.2289e-04, -1.3631e-03, -1.9692e-03,\n",
       "                      -4.0428e-04, -1.1311e-06, -2.8796e-03, -3.2709e-03, -3.2738e-03,\n",
       "                      -3.4569e-04, -2.2990e-03, -1.6736e-03,  2.6637e-03, -2.6894e-03,\n",
       "                       7.0865e-04,  2.8988e-03, -7.1649e-05, -3.1011e-03,  2.6928e-03,\n",
       "                       5.0377e-03,  9.0386e-04, -1.0387e-03,  1.1266e-03,  7.9202e-04,\n",
       "                       2.5330e-03,  9.7305e-04,  2.4313e-03, -2.4146e-03, -9.2008e-04,\n",
       "                       1.7204e-03, -5.4507e-04, -7.6942e-04,  2.0991e-03, -2.4416e-03,\n",
       "                      -9.6055e-04,  3.7281e-03,  6.1206e-04,  2.8600e-03,  4.1895e-03,\n",
       "                       3.7775e-03, -9.4749e-05, -2.1031e-03, -3.8142e-05, -1.4133e-03,\n",
       "                      -2.9104e-03,  1.1315e-03,  1.0488e-03,  1.6190e-03, -2.9445e-03,\n",
       "                      -1.3797e-03, -2.5724e-03, -3.1485e-04,  8.3111e-04,  1.9026e-03,\n",
       "                      -6.8027e-04,  1.3598e-03, -1.2728e-03, -2.0037e-04,  1.9754e-03,\n",
       "                       2.2552e-03, -9.4225e-04, -1.8089e-04, -1.4627e-03,  1.2795e-03,\n",
       "                      -3.1011e-03,  3.9383e-03, -6.0401e-04, -2.0362e-03,  1.7800e-03,\n",
       "                       6.3282e-04,  5.1392e-04,  9.5417e-04,  2.0723e-03,  1.8059e-03,\n",
       "                      -1.6954e-03,  3.0484e-04, -2.2455e-03,  1.6774e-03, -2.9327e-03,\n",
       "                      -2.8292e-03, -7.0596e-04,  1.7755e-03, -1.9271e-05, -2.3509e-03,\n",
       "                      -5.5082e-04, -1.8281e-03, -1.7176e-03, -2.4898e-03, -2.1883e-03,\n",
       "                       2.9154e-03, -1.7034e-03, -3.7756e-05,  4.8553e-04, -1.9510e-03,\n",
       "                       3.3168e-05, -2.4891e-03, -2.6466e-03, -2.8027e-03, -4.4980e-05,\n",
       "                       1.0169e-03, -1.9526e-03, -2.0244e-03, -2.6515e-03, -1.5238e-03,\n",
       "                      -2.1538e-03, -4.3673e-04, -2.3549e-03,  2.1253e-03,  7.5248e-04,\n",
       "                      -2.3284e-03,  1.3332e-03, -1.0419e-03,  1.1247e-03, -1.9619e-03,\n",
       "                       8.7746e-04,  1.9011e-03, -1.8980e-03, -1.7215e-04, -2.4127e-03,\n",
       "                       1.6658e-03, -1.9736e-05, -2.7590e-04,  7.9290e-04, -4.8662e-04,\n",
       "                      -5.7817e-05, -6.0565e-04, -3.0173e-03, -1.9917e-03, -2.6643e-05,\n",
       "                       2.3319e-03, -8.1859e-04,  1.3318e-03,  7.7041e-04,  2.4771e-03,\n",
       "                      -3.2036e-03, -2.2574e-03, -1.0549e-04, -2.3213e-05,  1.4893e-03,\n",
       "                       1.4790e-03, -2.9363e-03,  5.1149e-04, -4.9687e-04, -1.3134e-03,\n",
       "                       9.1643e-04, -7.8810e-04, -4.1911e-04, -3.2243e-03, -2.3298e-03,\n",
       "                      -2.8256e-03, -1.1908e-03, -3.0790e-03, -4.8322e-04, -2.4615e-03,\n",
       "                      -6.3887e-05,  4.3170e-04, -2.0067e-05,  2.3821e-04, -4.5975e-04,\n",
       "                      -3.0034e-03,  3.9675e-03, -2.4047e-05, -6.0459e-05,  2.2286e-04,\n",
       "                       2.1675e-04,  1.6774e-03, -2.0341e-03,  8.5215e-04, -6.7790e-05,\n",
       "                       6.0918e-04, -3.3059e-04,  3.2528e-03, -5.7458e-04,  1.4628e-03,\n",
       "                      -1.7529e-03, -2.7841e-03, -1.0329e-04,  7.3688e-04, -1.9237e-03,\n",
       "                      -7.2329e-04, -1.5529e-03, -2.4918e-03,  1.9385e-03, -2.3532e-03,\n",
       "                      -3.2139e-03,  3.1698e-03, -2.2055e-03, -1.0932e-03,  4.1101e-03,\n",
       "                       1.0425e-03,  8.6582e-04, -1.2738e-05, -2.1091e-04,  1.2843e-03,\n",
       "                       2.1210e-03,  6.1740e-04, -1.8958e-03,  2.8095e-03,  1.2915e-03,\n",
       "                       2.9154e-03,  1.1365e-03, -6.1423e-05, -2.4327e-03,  8.9356e-04,\n",
       "                      -5.0303e-04,  5.0219e-04, -1.2218e-03, -2.9884e-03, -1.0996e-03,\n",
       "                      -7.5317e-04, -2.7688e-03, -2.2699e-03, -1.0238e-04,  7.6664e-04,\n",
       "                      -1.2388e-03, -2.0653e-03, -6.2681e-04, -3.8890e-05, -2.3193e-04,\n",
       "                       1.2394e-03,  3.9126e-03, -2.5029e-05, -2.5334e-03, -1.0925e-03,\n",
       "                       1.1765e-03, -5.1268e-05,  3.2956e-03,  1.6884e-03, -6.6413e-04,\n",
       "                      -1.4570e-03,  2.6144e-03, -5.8338e-04, -1.7912e-03, -1.7094e-03,\n",
       "                      -1.6326e-03, -8.2976e-04, -2.5005e-03, -2.7124e-03,  3.7428e-03,\n",
       "                      -3.0864e-03, -1.2817e-03,  1.3854e-03, -8.1197e-04, -1.1270e-03,\n",
       "                      -1.5208e-03,  2.3963e-03, -3.0414e-03,  9.3712e-05,  2.2944e-03,\n",
       "                      -2.8440e-06, -2.6143e-03,  2.0355e-03,  3.4112e-03, -8.1195e-04,\n",
       "                      -3.2372e-03,  9.8247e-04, -1.8861e-03,  1.8642e-03, -3.0997e-03,\n",
       "                       1.5717e-03, -2.6323e-03,  3.7787e-03,  2.1609e-03,  3.2182e-03,\n",
       "                      -8.5325e-05,  6.1629e-04, -1.9216e-03, -3.7232e-04, -1.1391e-05,\n",
       "                      -2.9609e-04,  1.4587e-03, -2.2172e-04, -2.0232e-03, -1.0822e-03,\n",
       "                      -1.4794e-03, -3.0085e-03,  1.6675e-03,  1.9223e-04, -2.2210e-04,\n",
       "                       4.2566e-03,  2.2235e-03, -2.8397e-03,  5.4145e-04, -1.0990e-04,\n",
       "                      -2.0500e-03, -1.1489e-03, -7.9111e-04, -1.3813e-03, -2.3321e-03,\n",
       "                      -3.1633e-03, -8.9700e-04, -2.7437e-03, -1.9748e-03,  1.8394e-03,\n",
       "                       1.7563e-03, -1.9032e-03, -2.8685e-03,  2.1746e-03, -1.0986e-03,\n",
       "                      -7.5663e-04, -2.6129e-03, -2.0621e-04,  3.9987e-03,  2.2196e-03,\n",
       "                       2.6722e-03, -7.0841e-05, -2.8544e-03,  1.0397e-03,  2.6620e-03,\n",
       "                      -3.0129e-03,  3.4543e-03,  1.3693e-03,  1.4963e-03,  3.3997e-03,\n",
       "                      -1.5480e-03, -2.2579e-03, -2.7307e-03,  6.7172e-04, -1.3789e-03,\n",
       "                      -1.9642e-03,  2.1192e-03, -2.5187e-04,  1.1562e-03, -2.3774e-03,\n",
       "                       1.1115e-03, -2.6018e-03,  7.3206e-04, -1.2880e-03,  3.1895e-03,\n",
       "                      -3.0183e-03,  1.1300e-03, -8.6557e-05, -1.5167e-03,  2.2112e-03,\n",
       "                      -1.3180e-03,  2.6865e-03, -3.0168e-03, -2.9968e-03, -8.2557e-04,\n",
       "                      -1.5604e-03, -1.3311e-05, -1.0054e-03, -8.5607e-05,  3.9930e-04,\n",
       "                      -1.3029e-03,  4.8354e-04, -1.5723e-05,  4.8670e-03, -9.6162e-04,\n",
       "                      -2.2208e-03,  1.0616e-03, -2.7715e-03, -1.1466e-03, -1.9879e-03,\n",
       "                       1.7706e-03,  1.7652e-03, -1.9107e-03,  2.7578e-03, -2.3491e-03,\n",
       "                      -4.7017e-04,  4.7128e-03,  4.6563e-05, -3.0452e-03,  2.4725e-03,\n",
       "                      -1.7202e-03,  2.3529e-03, -1.2482e-03, -6.2249e-05, -1.3083e-05,\n",
       "                      -1.1220e-03, -6.1276e-06, -1.9415e-03, -2.7069e-03, -4.6662e-04],\n",
       "                     device='cuda:0')),\n",
       "             ('fc2.weight',\n",
       "              tensor([[-0.0080,  0.0235,  0.0047,  ..., -0.0099, -0.0272, -0.0167],\n",
       "                      [-0.0212,  0.0025,  0.0095,  ..., -0.0021,  0.0247, -0.0213],\n",
       "                      [ 0.0248, -0.0308, -0.0128,  ..., -0.0292,  0.0071, -0.0313]],\n",
       "                     device='cuda:0')),\n",
       "             ('fc2.bias',\n",
       "              tensor([ 0.0096, -0.0768,  0.0905], device='cuda:0'))])"
      ]
     },
     "execution_count": 25,
     "metadata": {},
     "output_type": "execute_result"
    }
   ],
   "source": [
    "model.state_dict()"
   ]
  }
 ],
 "metadata": {
  "accelerator": "GPU",
  "colab": {
   "name": "Untitled12.ipynb",
   "provenance": []
  },
  "gpuClass": "standard",
  "kernelspec": {
   "display_name": "Python 3.10.0 64-bit",
   "language": "python",
   "name": "python3"
  },
  "language_info": {
   "codemirror_mode": {
    "name": "ipython",
    "version": 3
   },
   "file_extension": ".py",
   "mimetype": "text/x-python",
   "name": "python",
   "nbconvert_exporter": "python",
   "pygments_lexer": "ipython3",
   "version": "3.10.0"
  },
  "vscode": {
   "interpreter": {
    "hash": "aee8b7b246df8f9039afb4144a1f6fd8d2ca17a180786b69acc140d282b71a49"
   }
  }
 },
 "nbformat": 4,
 "nbformat_minor": 0
}
