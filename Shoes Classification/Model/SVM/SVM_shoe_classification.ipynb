{
  "cells": [
    {
      "cell_type": "markdown",
      "metadata": {
        "id": "uBajLXYrWBlo"
      },
      "source": [
        "Importing all the required packages"
      ]
    },
    {
      "cell_type": "code",
      "execution_count": 2,
      "metadata": {
        "id": "VgPd1fjcOKlg"
      },
      "outputs": [],
      "source": [
        "\n",
        "import pandas as pd\n",
        "from sklearn import svm\n",
        "from sklearn.model_selection import GridSearchCV\n",
        "import os\n",
        "import matplotlib.pyplot as plt\n",
        "from skimage.transform import resize\n",
        "from skimage.io import imread\n",
        "import numpy as np\n",
        "from sklearn.model_selection import train_test_split\n",
        "from sklearn.metrics import classification_report,accuracy_score,confusion_matrix\n",
        "import pickle\n",
        "\n"
      ]
    },
    {
      "cell_type": "markdown",
      "metadata": {
        "id": "i8zhtW8yz34D"
      },
      "source": [
        "**NOTE** : Please enter Category Names same as folder name"
      ]
    },
    {
      "cell_type": "code",
      "execution_count": 4,
      "metadata": {
        "colab": {
          "base_uri": "https://localhost:8080/"
        },
        "id": "umZtNj4CTllG",
        "outputId": "6bd8a057-f089-41e9-e55e-ef7d8fe47639"
      },
      "outputs": [
        {
          "name": "stdout",
          "output_type": "stream",
          "text": [
            "Type y to give categories or type n to go with classification of nike or adidas\n",
            "\n"
          ]
        }
      ],
      "source": [
        "Categories=['nike','adidas']\n",
        "print(\"Type y to give categories or type n to go with classification of nike or adidas\\n\")\n",
        "\n",
        "while(True):\n",
        "  check=input()\n",
        "  if(check=='n' or check=='y'):\n",
        "    break\n",
        "  print(\"Please give a valid input (y/n)\")\n",
        "if(check=='y'):\n",
        "  print(\"Enter How Many types of Images do you want to classify\")\n",
        "  n=int(input())\n",
        "  Categories=[]\n",
        "  print(f'please enter {n} names')\n",
        "  for i in range(n):\n",
        "    name=input()\n",
        "    Categories.append(name)\n",
        "  print(f\"If not drive Please upload all the {n} category images in google collab with the same names as given in categories\")\n",
        "\n"
      ]
    },
    {
      "cell_type": "markdown",
      "metadata": {
        "id": "0wwiPscqYune"
      },
      "source": [
        "Loading all the images and creating a DataFrame\n",
        "\n",
        "If you have your images in your google drive, simply mount the google Drive and copy the path of the folder containing all the Category images and Change the datadir variable to that path"
      ]
    },
    {
      "cell_type": "code",
      "execution_count": 8,
      "metadata": {
        "colab": {
          "base_uri": "https://localhost:8080/",
          "height": 531
        },
        "id": "XdGD-XpMYUjJ",
        "outputId": "d88292e8-0fd2-4c41-a485-c98045228f62"
      },
      "outputs": [
        {
          "name": "stdout",
          "output_type": "stream",
          "text": [
            "loading... category : nike\n",
            "loaded category:nike successfully\n",
            "loading... category : adidas\n",
            "loaded category:adidas successfully\n"
          ]
        },
        {
          "data": {
            "text/html": [
              "<div>\n",
              "<style scoped>\n",
              "    .dataframe tbody tr th:only-of-type {\n",
              "        vertical-align: middle;\n",
              "    }\n",
              "\n",
              "    .dataframe tbody tr th {\n",
              "        vertical-align: top;\n",
              "    }\n",
              "\n",
              "    .dataframe thead th {\n",
              "        text-align: right;\n",
              "    }\n",
              "</style>\n",
              "<table border=\"1\" class=\"dataframe\">\n",
              "  <thead>\n",
              "    <tr style=\"text-align: right;\">\n",
              "      <th></th>\n",
              "      <th>0</th>\n",
              "      <th>1</th>\n",
              "      <th>2</th>\n",
              "      <th>3</th>\n",
              "      <th>4</th>\n",
              "      <th>5</th>\n",
              "      <th>6</th>\n",
              "      <th>7</th>\n",
              "      <th>8</th>\n",
              "      <th>9</th>\n",
              "      <th>...</th>\n",
              "      <th>67491</th>\n",
              "      <th>67492</th>\n",
              "      <th>67493</th>\n",
              "      <th>67494</th>\n",
              "      <th>67495</th>\n",
              "      <th>67496</th>\n",
              "      <th>67497</th>\n",
              "      <th>67498</th>\n",
              "      <th>67499</th>\n",
              "      <th>Target</th>\n",
              "    </tr>\n",
              "  </thead>\n",
              "  <tbody>\n",
              "    <tr>\n",
              "      <th>0</th>\n",
              "      <td>0.167133</td>\n",
              "      <td>0.208573</td>\n",
              "      <td>0.241881</td>\n",
              "      <td>0.174480</td>\n",
              "      <td>0.210030</td>\n",
              "      <td>0.247108</td>\n",
              "      <td>0.170330</td>\n",
              "      <td>0.218637</td>\n",
              "      <td>0.242707</td>\n",
              "      <td>0.181717</td>\n",
              "      <td>...</td>\n",
              "      <td>0.997510</td>\n",
              "      <td>0.989667</td>\n",
              "      <td>0.995852</td>\n",
              "      <td>0.996079</td>\n",
              "      <td>0.989003</td>\n",
              "      <td>0.995110</td>\n",
              "      <td>0.996078</td>\n",
              "      <td>0.988964</td>\n",
              "      <td>0.992887</td>\n",
              "      <td>0</td>\n",
              "    </tr>\n",
              "    <tr>\n",
              "      <th>1</th>\n",
              "      <td>1.000000</td>\n",
              "      <td>1.000000</td>\n",
              "      <td>1.000000</td>\n",
              "      <td>1.000000</td>\n",
              "      <td>1.000000</td>\n",
              "      <td>1.000000</td>\n",
              "      <td>1.000000</td>\n",
              "      <td>1.000000</td>\n",
              "      <td>1.000000</td>\n",
              "      <td>1.000000</td>\n",
              "      <td>...</td>\n",
              "      <td>1.000000</td>\n",
              "      <td>1.000000</td>\n",
              "      <td>1.000000</td>\n",
              "      <td>1.000000</td>\n",
              "      <td>1.000000</td>\n",
              "      <td>1.000000</td>\n",
              "      <td>1.000000</td>\n",
              "      <td>1.000000</td>\n",
              "      <td>1.000000</td>\n",
              "      <td>0</td>\n",
              "    </tr>\n",
              "    <tr>\n",
              "      <th>2</th>\n",
              "      <td>0.960784</td>\n",
              "      <td>0.960784</td>\n",
              "      <td>0.960784</td>\n",
              "      <td>0.960784</td>\n",
              "      <td>0.960784</td>\n",
              "      <td>0.960784</td>\n",
              "      <td>0.960784</td>\n",
              "      <td>0.960784</td>\n",
              "      <td>0.960784</td>\n",
              "      <td>0.960784</td>\n",
              "      <td>...</td>\n",
              "      <td>0.960784</td>\n",
              "      <td>0.960784</td>\n",
              "      <td>0.960784</td>\n",
              "      <td>0.960784</td>\n",
              "      <td>0.960784</td>\n",
              "      <td>0.960784</td>\n",
              "      <td>0.960784</td>\n",
              "      <td>0.960784</td>\n",
              "      <td>0.960784</td>\n",
              "      <td>0</td>\n",
              "    </tr>\n",
              "    <tr>\n",
              "      <th>3</th>\n",
              "      <td>1.000000</td>\n",
              "      <td>1.000000</td>\n",
              "      <td>1.000000</td>\n",
              "      <td>1.000000</td>\n",
              "      <td>1.000000</td>\n",
              "      <td>1.000000</td>\n",
              "      <td>1.000000</td>\n",
              "      <td>1.000000</td>\n",
              "      <td>1.000000</td>\n",
              "      <td>1.000000</td>\n",
              "      <td>...</td>\n",
              "      <td>1.000000</td>\n",
              "      <td>1.000000</td>\n",
              "      <td>1.000000</td>\n",
              "      <td>1.000000</td>\n",
              "      <td>1.000000</td>\n",
              "      <td>1.000000</td>\n",
              "      <td>1.000000</td>\n",
              "      <td>1.000000</td>\n",
              "      <td>1.000000</td>\n",
              "      <td>0</td>\n",
              "    </tr>\n",
              "    <tr>\n",
              "      <th>4</th>\n",
              "      <td>0.642898</td>\n",
              "      <td>0.639215</td>\n",
              "      <td>0.619607</td>\n",
              "      <td>0.645788</td>\n",
              "      <td>0.639215</td>\n",
              "      <td>0.613805</td>\n",
              "      <td>0.649148</td>\n",
              "      <td>0.640131</td>\n",
              "      <td>0.611765</td>\n",
              "      <td>0.643139</td>\n",
              "      <td>...</td>\n",
              "      <td>0.605292</td>\n",
              "      <td>0.455839</td>\n",
              "      <td>0.238494</td>\n",
              "      <td>0.614360</td>\n",
              "      <td>0.458466</td>\n",
              "      <td>0.238911</td>\n",
              "      <td>0.619356</td>\n",
              "      <td>0.459780</td>\n",
              "      <td>0.240901</td>\n",
              "      <td>0</td>\n",
              "    </tr>\n",
              "    <tr>\n",
              "      <th>...</th>\n",
              "      <td>...</td>\n",
              "      <td>...</td>\n",
              "      <td>...</td>\n",
              "      <td>...</td>\n",
              "      <td>...</td>\n",
              "      <td>...</td>\n",
              "      <td>...</td>\n",
              "      <td>...</td>\n",
              "      <td>...</td>\n",
              "      <td>...</td>\n",
              "      <td>...</td>\n",
              "      <td>...</td>\n",
              "      <td>...</td>\n",
              "      <td>...</td>\n",
              "      <td>...</td>\n",
              "      <td>...</td>\n",
              "      <td>...</td>\n",
              "      <td>...</td>\n",
              "      <td>...</td>\n",
              "      <td>...</td>\n",
              "      <td>...</td>\n",
              "    </tr>\n",
              "    <tr>\n",
              "      <th>455</th>\n",
              "      <td>0.731156</td>\n",
              "      <td>0.731156</td>\n",
              "      <td>0.697846</td>\n",
              "      <td>0.728242</td>\n",
              "      <td>0.728242</td>\n",
              "      <td>0.689027</td>\n",
              "      <td>0.730963</td>\n",
              "      <td>0.729131</td>\n",
              "      <td>0.686600</td>\n",
              "      <td>0.737092</td>\n",
              "      <td>...</td>\n",
              "      <td>0.405647</td>\n",
              "      <td>0.415581</td>\n",
              "      <td>0.387214</td>\n",
              "      <td>0.381596</td>\n",
              "      <td>0.393361</td>\n",
              "      <td>0.365910</td>\n",
              "      <td>0.342171</td>\n",
              "      <td>0.359842</td>\n",
              "      <td>0.332391</td>\n",
              "      <td>1</td>\n",
              "    </tr>\n",
              "    <tr>\n",
              "      <th>456</th>\n",
              "      <td>0.925490</td>\n",
              "      <td>0.929412</td>\n",
              "      <td>0.937255</td>\n",
              "      <td>0.925490</td>\n",
              "      <td>0.929412</td>\n",
              "      <td>0.937255</td>\n",
              "      <td>0.925490</td>\n",
              "      <td>0.929412</td>\n",
              "      <td>0.937255</td>\n",
              "      <td>0.925490</td>\n",
              "      <td>...</td>\n",
              "      <td>0.925490</td>\n",
              "      <td>0.929412</td>\n",
              "      <td>0.937255</td>\n",
              "      <td>0.925490</td>\n",
              "      <td>0.929412</td>\n",
              "      <td>0.937255</td>\n",
              "      <td>0.925490</td>\n",
              "      <td>0.929412</td>\n",
              "      <td>0.937255</td>\n",
              "      <td>1</td>\n",
              "    </tr>\n",
              "    <tr>\n",
              "      <th>457</th>\n",
              "      <td>0.925490</td>\n",
              "      <td>0.929412</td>\n",
              "      <td>0.937255</td>\n",
              "      <td>0.925490</td>\n",
              "      <td>0.929412</td>\n",
              "      <td>0.937255</td>\n",
              "      <td>0.925490</td>\n",
              "      <td>0.929412</td>\n",
              "      <td>0.937255</td>\n",
              "      <td>0.925490</td>\n",
              "      <td>...</td>\n",
              "      <td>0.925490</td>\n",
              "      <td>0.929412</td>\n",
              "      <td>0.937255</td>\n",
              "      <td>0.925490</td>\n",
              "      <td>0.929412</td>\n",
              "      <td>0.937255</td>\n",
              "      <td>0.925490</td>\n",
              "      <td>0.929412</td>\n",
              "      <td>0.937255</td>\n",
              "      <td>1</td>\n",
              "    </tr>\n",
              "    <tr>\n",
              "      <th>458</th>\n",
              "      <td>1.000000</td>\n",
              "      <td>1.000000</td>\n",
              "      <td>1.000000</td>\n",
              "      <td>1.000000</td>\n",
              "      <td>1.000000</td>\n",
              "      <td>1.000000</td>\n",
              "      <td>1.000000</td>\n",
              "      <td>1.000000</td>\n",
              "      <td>1.000000</td>\n",
              "      <td>1.000000</td>\n",
              "      <td>...</td>\n",
              "      <td>1.000000</td>\n",
              "      <td>1.000000</td>\n",
              "      <td>1.000000</td>\n",
              "      <td>1.000000</td>\n",
              "      <td>1.000000</td>\n",
              "      <td>1.000000</td>\n",
              "      <td>1.000000</td>\n",
              "      <td>1.000000</td>\n",
              "      <td>1.000000</td>\n",
              "      <td>1</td>\n",
              "    </tr>\n",
              "    <tr>\n",
              "      <th>459</th>\n",
              "      <td>0.278431</td>\n",
              "      <td>0.364706</td>\n",
              "      <td>0.517647</td>\n",
              "      <td>0.278431</td>\n",
              "      <td>0.364706</td>\n",
              "      <td>0.517647</td>\n",
              "      <td>0.278432</td>\n",
              "      <td>0.364706</td>\n",
              "      <td>0.517647</td>\n",
              "      <td>0.281281</td>\n",
              "      <td>...</td>\n",
              "      <td>0.007843</td>\n",
              "      <td>0.000000</td>\n",
              "      <td>0.011765</td>\n",
              "      <td>0.008863</td>\n",
              "      <td>0.001020</td>\n",
              "      <td>0.012785</td>\n",
              "      <td>0.011764</td>\n",
              "      <td>0.003921</td>\n",
              "      <td>0.015686</td>\n",
              "      <td>1</td>\n",
              "    </tr>\n",
              "  </tbody>\n",
              "</table>\n",
              "<p>460 rows × 67501 columns</p>\n",
              "</div>"
            ],
            "text/plain": [
              "            0         1         2         3         4         5         6  \\\n",
              "0    0.167133  0.208573  0.241881  0.174480  0.210030  0.247108  0.170330   \n",
              "1    1.000000  1.000000  1.000000  1.000000  1.000000  1.000000  1.000000   \n",
              "2    0.960784  0.960784  0.960784  0.960784  0.960784  0.960784  0.960784   \n",
              "3    1.000000  1.000000  1.000000  1.000000  1.000000  1.000000  1.000000   \n",
              "4    0.642898  0.639215  0.619607  0.645788  0.639215  0.613805  0.649148   \n",
              "..        ...       ...       ...       ...       ...       ...       ...   \n",
              "455  0.731156  0.731156  0.697846  0.728242  0.728242  0.689027  0.730963   \n",
              "456  0.925490  0.929412  0.937255  0.925490  0.929412  0.937255  0.925490   \n",
              "457  0.925490  0.929412  0.937255  0.925490  0.929412  0.937255  0.925490   \n",
              "458  1.000000  1.000000  1.000000  1.000000  1.000000  1.000000  1.000000   \n",
              "459  0.278431  0.364706  0.517647  0.278431  0.364706  0.517647  0.278432   \n",
              "\n",
              "            7         8         9  ...     67491     67492     67493  \\\n",
              "0    0.218637  0.242707  0.181717  ...  0.997510  0.989667  0.995852   \n",
              "1    1.000000  1.000000  1.000000  ...  1.000000  1.000000  1.000000   \n",
              "2    0.960784  0.960784  0.960784  ...  0.960784  0.960784  0.960784   \n",
              "3    1.000000  1.000000  1.000000  ...  1.000000  1.000000  1.000000   \n",
              "4    0.640131  0.611765  0.643139  ...  0.605292  0.455839  0.238494   \n",
              "..        ...       ...       ...  ...       ...       ...       ...   \n",
              "455  0.729131  0.686600  0.737092  ...  0.405647  0.415581  0.387214   \n",
              "456  0.929412  0.937255  0.925490  ...  0.925490  0.929412  0.937255   \n",
              "457  0.929412  0.937255  0.925490  ...  0.925490  0.929412  0.937255   \n",
              "458  1.000000  1.000000  1.000000  ...  1.000000  1.000000  1.000000   \n",
              "459  0.364706  0.517647  0.281281  ...  0.007843  0.000000  0.011765   \n",
              "\n",
              "        67494     67495     67496     67497     67498     67499  Target  \n",
              "0    0.996079  0.989003  0.995110  0.996078  0.988964  0.992887       0  \n",
              "1    1.000000  1.000000  1.000000  1.000000  1.000000  1.000000       0  \n",
              "2    0.960784  0.960784  0.960784  0.960784  0.960784  0.960784       0  \n",
              "3    1.000000  1.000000  1.000000  1.000000  1.000000  1.000000       0  \n",
              "4    0.614360  0.458466  0.238911  0.619356  0.459780  0.240901       0  \n",
              "..        ...       ...       ...       ...       ...       ...     ...  \n",
              "455  0.381596  0.393361  0.365910  0.342171  0.359842  0.332391       1  \n",
              "456  0.925490  0.929412  0.937255  0.925490  0.929412  0.937255       1  \n",
              "457  0.925490  0.929412  0.937255  0.925490  0.929412  0.937255       1  \n",
              "458  1.000000  1.000000  1.000000  1.000000  1.000000  1.000000       1  \n",
              "459  0.008863  0.001020  0.012785  0.011764  0.003921  0.015686       1  \n",
              "\n",
              "[460 rows x 67501 columns]"
            ]
          },
          "execution_count": 8,
          "metadata": {},
          "output_type": "execute_result"
        }
      ],
      "source": [
        "flat_data_arr=[]\n",
        "target_arr=[]\n",
        "#please use datadir='/content' if the files are upload on to google collab\n",
        "#else mount the drive and give path of the parent-folder containing all category images folders.\n",
        "# datadir='C:\\Programming\\Python_Projects\\Material_project\\Image-Classification-main'\n",
        "datadir='..\\\\Dataset\\\\train'\n",
        "\n",
        "for i in Categories:\n",
        "  print(f'loading... category : {i}')\n",
        "  path=os.path.join(datadir,i)\n",
        "  for img in os.listdir(path):\n",
        "    img_array=imread(os.path.join(path,img))\n",
        "    img_resized=resize(img_array,(150,150,3))\n",
        "    flat_data_arr.append(img_resized.flatten())\n",
        "    target_arr.append(Categories.index(i))\n",
        "  print(f'loaded category:{i} successfully')\n",
        "flat_data=np.array(flat_data_arr)\n",
        "target=np.array(target_arr)\n",
        "df=pd.DataFrame(flat_data)\n",
        "df['Target']=target\n",
        "df"
      ]
    },
    {
      "cell_type": "markdown",
      "metadata": {
        "id": "gUp5FDqIY070"
      },
      "source": [
        "Splitting the data into training and testing data"
      ]
    },
    {
      "cell_type": "code",
      "execution_count": 9,
      "metadata": {
        "colab": {
          "base_uri": "https://localhost:8080/"
        },
        "id": "Jg3XHRP3OUyf",
        "outputId": "f9f0a456-8a4c-45e6-9b01-509d753139f2"
      },
      "outputs": [
        {
          "name": "stdout",
          "output_type": "stream",
          "text": [
            "Splitted Successfully\n"
          ]
        }
      ],
      "source": [
        "x=df.iloc[:,:-1]\n",
        "y=df.iloc[:,-1]\n",
        "x_train,x_test,y_train,y_test=train_test_split(x,y,test_size=0.20,random_state=77,stratify=y)\n",
        "print('Splitted Successfully')"
      ]
    },
    {
      "cell_type": "markdown",
      "metadata": {
        "id": "YMmSZWDJY_eE"
      },
      "source": [
        "This Part of code may take a while for training the data using SVC model"
      ]
    },
    {
      "cell_type": "code",
      "execution_count": 10,
      "metadata": {
        "colab": {
          "base_uri": "https://localhost:8080/"
        },
        "id": "DIaIT2GlOvy6",
        "outputId": "47a22b93-17d2-4f2a-fb1f-a0e355551852"
      },
      "outputs": [
        {
          "name": "stdout",
          "output_type": "stream",
          "text": [
            "The training of the model is started, please wait for while as it may take few minutes to complete\n",
            "The Model is trained well with the given images\n"
          ]
        },
        {
          "data": {
            "text/plain": [
              "{'C': 1, 'gamma': 0.0001, 'kernel': 'rbf'}"
            ]
          },
          "execution_count": 10,
          "metadata": {},
          "output_type": "execute_result"
        }
      ],
      "source": [
        "param_grid={'C':[0.1,1,10,100],'gamma':[0.0001,0.001,0.1,1],'kernel':['rbf','poly']}\n",
        "svc=svm.SVC(probability=True)\n",
        "print(\"The training of the model is started, please wait for while as it may take few minutes to complete\")\n",
        "model=GridSearchCV(svc,param_grid)\n",
        "model.fit(x_train,y_train)\n",
        "print('The Model is trained well with the given images')\n",
        "model.best_params_"
      ]
    },
    {
      "cell_type": "markdown",
      "metadata": {
        "id": "VWKN2_4eZZmF"
      },
      "source": [
        "Predicting our testing data"
      ]
    },
    {
      "cell_type": "code",
      "execution_count": 11,
      "metadata": {
        "colab": {
          "base_uri": "https://localhost:8080/"
        },
        "id": "h7qEbNLoSAcS",
        "outputId": "3c93b66c-9202-42ee-ae30-5cadea7f00ef"
      },
      "outputs": [
        {
          "name": "stdout",
          "output_type": "stream",
          "text": [
            "The predicted Data is :\n"
          ]
        },
        {
          "data": {
            "text/plain": [
              "array([1, 0, 0, 0, 1, 1, 0, 0, 1, 0, 0, 1, 0, 1, 1, 0, 0, 1, 1, 1, 0, 0,\n",
              "       1, 1, 0, 0, 1, 1, 1, 1, 1, 0, 0, 1, 0, 0, 0, 0, 0, 1, 0, 0, 1, 0,\n",
              "       0, 1, 1, 1, 0, 1, 1, 0, 0, 0, 0, 1, 1, 1, 1, 0, 0, 1, 1, 1, 0, 0,\n",
              "       1, 1, 0, 1, 1, 0, 0, 0, 0, 0, 0, 1, 1, 0, 1, 1, 0, 0, 1, 1, 0, 0,\n",
              "       1, 0, 1, 1])"
            ]
          },
          "execution_count": 11,
          "metadata": {},
          "output_type": "execute_result"
        }
      ],
      "source": [
        "y_pred=model.predict(x_test)\n",
        "print(\"The predicted Data is :\")\n",
        "y_pred"
      ]
    },
    {
      "cell_type": "code",
      "execution_count": 12,
      "metadata": {
        "colab": {
          "base_uri": "https://localhost:8080/"
        },
        "id": "A4rMJQ0HSCgU",
        "outputId": "c5a922e2-4c75-4f95-96e3-bf9d6c9a7089"
      },
      "outputs": [
        {
          "name": "stdout",
          "output_type": "stream",
          "text": [
            "The actual data is:\n"
          ]
        },
        {
          "data": {
            "text/plain": [
              "array([1, 0, 1, 0, 1, 1, 0, 1, 1, 0, 1, 0, 0, 1, 1, 0, 0, 0, 0, 0, 0, 1,\n",
              "       1, 1, 0, 1, 0, 1, 0, 1, 0, 1, 0, 1, 0, 0, 1, 1, 0, 1, 0, 1, 1, 0,\n",
              "       0, 1, 0, 1, 0, 1, 1, 0, 0, 0, 0, 1, 1, 1, 1, 0, 1, 1, 0, 1, 0, 0,\n",
              "       1, 1, 0, 1, 1, 0, 0, 0, 0, 0, 1, 1, 1, 0, 1, 0, 0, 1, 1, 1, 0, 0,\n",
              "       0, 1, 0, 1])"
            ]
          },
          "execution_count": 12,
          "metadata": {},
          "output_type": "execute_result"
        }
      ],
      "source": [
        "print(\"The actual data is:\")\n",
        "np.array(y_test)"
      ]
    },
    {
      "cell_type": "code",
      "execution_count": 13,
      "metadata": {
        "colab": {
          "base_uri": "https://localhost:8080/"
        },
        "id": "ZwXKKc5FSFMf",
        "outputId": "d6c6e632-2585-4405-87b6-4b2321e41298"
      },
      "outputs": [
        {
          "name": "stdout",
          "output_type": "stream",
          "text": [
            "The model is 72.82608695652173% accurate\n"
          ]
        }
      ],
      "source": [
        "#classification_report(y_pred,y_test)\n",
        "print(f\"The model is {accuracy_score(y_pred,y_test)*100}% accurate\")\n",
        "#confusion_matrix(y_pred,y_test)"
      ]
    },
    {
      "cell_type": "markdown",
      "metadata": {
        "id": "B8rpwj-yX4hl"
      },
      "source": [
        "Using Pickle to save the model to disk"
      ]
    },
    {
      "cell_type": "code",
      "execution_count": 18,
      "metadata": {
        "colab": {
          "base_uri": "https://localhost:8080/"
        },
        "id": "Jf8xp5BYp_7E",
        "outputId": "bb161fc8-afc1-4f80-87a6-c4859708c0fc"
      },
      "outputs": [
        {
          "name": "stdout",
          "output_type": "stream",
          "text": [
            "Pickle is dumped successfully\n"
          ]
        }
      ],
      "source": [
        "pickle.dump(model,open('Shoe_classification_model.p','wb'))\n",
        "print(\"Pickle is dumped successfully\")"
      ]
    },
    {
      "cell_type": "markdown",
      "metadata": {
        "id": "D5j6KOPCZ8av"
      },
      "source": [
        "The Machine-Learning Based Model is Created Successfully. Now You can test for classification of any image which falls in the mentioned Categories\n",
        "\n",
        "Testing of model :"
      ]
    },
    {
      "cell_type": "code",
      "execution_count": 17,
      "metadata": {
        "colab": {
          "base_uri": "https://localhost:8080/",
          "height": 427
        },
        "id": "6MVmsPLdS6-X",
        "outputId": "56a836cf-2eca-4111-d585-34697dd71db5"
      },
      "outputs": [
        {
          "data": {
            "image/png": "[encoded data removed]",
            "text/plain": [
              "<Figure size 432x288 with 1 Axes>"
            ]
          },
          "metadata": {
            "needs_background": "light"
          },
          "output_type": "display_data"
        },
        {
          "name": "stdout",
          "output_type": "stream",
          "text": [
            "nike = 46.394884543751594%\n",
            "adidas = 53.6051154562484%\n",
            "The predicted image is : adidas\n",
            "Is the image a adidas ?(y/n)\n",
            "Thank you for your feedback\n"
          ]
        }
      ],
      "source": [
        "#print(os.path.abspath(os.getcwd()))\n",
        "model=pickle.load(open('Shoe_classification_model.p','rb'))\n",
        "\n",
        "url=input('Enter URL of Image')\n",
        "img=imread(url)\n",
        "plt.imshow(img)\n",
        "plt.show()\n",
        "img_resize=resize(img,(150,150,3))\n",
        "l=[img_resize.flatten()]\n",
        "probability=model.predict_proba(l)\n",
        "for ind,val in enumerate(Categories):\n",
        "  print(f'{val} = {probability[0][ind]*100}%')\n",
        "print(\"The predicted image is : \"+Categories[model.predict(l)[0]])\n",
        "print(f'Is the image a {Categories[model.predict(l)[0]]} ?(y/n)')\n",
        "while(True):\n",
        "  b=input()\n",
        "  if(b==\"y\" or b==\"n\"):\n",
        "    break\n",
        "  print(\"please enter either y or n\")\n",
        "\n",
        "if(b=='n'):\n",
        "  print(\"What is the image?\")\n",
        "  for i in range(len(Categories)):\n",
        "    print(f\"Enter {i} for {Categories[i]}\")\n",
        "  k=int(input())\n",
        "  while(k<0 or k>=len(Categories)):\n",
        "    print(f\"Please enter a valid number between 0-{len(Categories)-1}\")\n",
        "    k=int(input())\n",
        "  print(\"Please wait for a while for the model to learn from this image :)\")\n",
        "  flat_arr=flat_data_arr.copy()\n",
        "  tar_arr=target_arr.copy()\n",
        "  tar_arr.append(k)\n",
        "  flat_arr.extend(l)\n",
        "  tar_arr=np.array(tar_arr)\n",
        "  flat_df=np.array(flat_arr)\n",
        "  df1=pd.DataFrame(flat_df)\n",
        "  df1['Target']=tar_arr\n",
        "  model1=GridSearchCV(svc,param_grid)\n",
        "  x1=df1.iloc[:,:-1]\n",
        "  y1=df1.iloc[:,-1]\n",
        "  x_train1,x_test1,y_train1,y_test1=train_test_split(x1,y1,test_size=0.20,random_state=77,stratify=y1)\n",
        "  d={}\n",
        "  for i in model.best_params_:\n",
        "    d[i]=[model.best_params_[i]]\n",
        "  model1=GridSearchCV(svc,d)\n",
        "  model1.fit(x_train1,y_train1)\n",
        "  y_pred1=model.predict(x_test1)\n",
        "  print(f\"The model is now {accuracy_score(y_pred1,y_test1)*100}% accurate\")\n",
        "  pickle.dump(model1,open('img_model.p','wb'))\n",
        "print(\"Thank you for your feedback\")\n"
      ]
    },
    {
      "cell_type": "markdown",
      "metadata": {
        "id": "fJ_t-zqIsTCA"
      },
      "source": [
        "This model learns from its mistake and rectifies them and does not repeat the same mistake again ;)"
      ]
    }
  ],
  "metadata": {
    "colab": {
      "authorship_tag": "ABX9TyNXoByyuzJc8pEa+Ia/zOiv",
      "include_colab_link": true,
      "mount_file_id": "1f0XtS7FMhgrj2FnqPssOI3tsovKoVeXM",
      "name": "Shanmukh-Classification.ipynb",
      "provenance": [],
      "toc_visible": true
    },
    "kernelspec": {
      "display_name": "Python 3.9.7 ('materialDetection')",
      "language": "python",
      "name": "python3"
    },
    "language_info": {
      "codemirror_mode": {
        "name": "ipython",
        "version": 3
      },
      "file_extension": ".py",
      "mimetype": "text/x-python",
      "name": "python",
      "nbconvert_exporter": "python",
      "pygments_lexer": "ipython3",
      "version": "3.9.7"
    },
    "vscode": {
      "interpreter": {
        "hash": "32be2334e28bfb986e2db895a1c98b471bd9e4c26fb7f3050f739aafd518bce0"
      }
    }
  },
  "nbformat": 4,
  "nbformat_minor": 0
}
