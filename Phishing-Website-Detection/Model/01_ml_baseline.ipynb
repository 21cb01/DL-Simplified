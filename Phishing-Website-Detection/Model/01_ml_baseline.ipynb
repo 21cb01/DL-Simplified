{
  "nbformat": 4,
  "nbformat_minor": 0,
  "metadata": {
    "colab": {
      "provenance": [],
      "authorship_tag": "ABX9TyPmSVKhzDnW1fVF3lX4baAq",
      "include_colab_link": true
    },
    "kernelspec": {
      "name": "python3",
      "display_name": "Python 3"
    },
    "language_info": {
      "name": "python"
    }
  },
  "cells": [
    {
      "cell_type": "markdown",
      "metadata": {
        "id": "view-in-github",
        "colab_type": "text"
      },
      "source": [
        "<a href=\"https://colab.research.google.com/github/stiwari-ds/DL-Simplified-SWOC-S3/blob/phishing-website-detection/Phishing-Website-Detection/Model/01_ml_baseline.ipynb\" target=\"_parent\"><img src=\"https://colab.research.google.com/assets/colab-badge.svg\" alt=\"Open In Colab\"/></a>"
      ]
    },
    {
      "cell_type": "markdown",
      "source": [
        "# Setup"
      ],
      "metadata": {
        "id": "H2Z1bJ-AblsN"
      }
    },
    {
      "cell_type": "code",
      "execution_count": 18,
      "metadata": {
        "id": "OlNZC9IzZguJ"
      },
      "outputs": [],
      "source": [
        "#Utils\n",
        "import gc\n",
        "import os\n",
        "import warnings\n",
        "\n",
        "gc.enable()\n",
        "warnings.filterwarnings(action='ignore')\n",
        "\n",
        "#Data analysis\n",
        "import numpy as np\n",
        "import pandas as pd\n",
        "\n",
        "pd.set_option('display.max_columns', None)\n",
        "pd.set_option('display.precision', 4)\n",
        "\n",
        "#Visualization\n",
        "import matplotlib as mpl\n",
        "import matplotlib.pyplot as plt\n",
        "import seaborn as sns\n",
        "\n",
        "%matplotlib inline\n",
        "%config InlineBackend.figure_format = 'png'\n",
        "mpl.rcParams[\"axes.spines.right\"] = False\n",
        "mpl.rcParams[\"axes.spines.top\"] = False\n",
        "\n",
        "#Reproducibility\n",
        "SEED = 2311\n",
        "os.environ['PYTHONHASHSEED'] = str(SEED)\n",
        "np.random.seed(SEED)"
      ]
    },
    {
      "cell_type": "code",
      "source": [
        "#modeling\n",
        "from sklearn.pipeline import Pipeline\n",
        "from sklearn.decomposition import PCA\n",
        "from sklearn.linear_model import LogisticRegression\n",
        "from sklearn.ensemble import RandomForestClassifier\n",
        "from sklearn.model_selection import train_test_split\n",
        "from sklearn.metrics import roc_auc_score, accuracy_score"
      ],
      "metadata": {
        "id": "6mB-tjmuqAKx"
      },
      "execution_count": 19,
      "outputs": []
    },
    {
      "cell_type": "markdown",
      "source": [
        "# Data"
      ],
      "metadata": {
        "id": "3VQaF0WDsszW"
      }
    },
    {
      "cell_type": "markdown",
      "source": [
        "**Cleaned data and feature sets (from [EDA notebook](https://github.com/stiwari-ds/DL-Simplified-SWOC-S3/blob/phishing-website-detection/Phishing-Website-Detection/Model/00_eda_and_preprocessing.ipynb))**"
      ],
      "metadata": {
        "id": "_mn2WXR4bYCn"
      }
    },
    {
      "cell_type": "code",
      "source": [
        "#data: cleaned version\n",
        "DATA_URL = 'https://raw.githubusercontent.com/stiwari-ds/DL-Simplified-SWOC-S3/phishing-website-detection/Phishing-Website-Detection/Dataset/processed/phishing_website_dataset_cleaned.csv'\n",
        "data = pd.read_csv(DATA_URL)"
      ],
      "metadata": {
        "id": "T_18eVAobrIK"
      },
      "execution_count": 20,
      "outputs": []
    },
    {
      "cell_type": "code",
      "source": [
        "TARGET = 'result'\n",
        "\n",
        "all_features = [f for f in data.columns if f != TARGET]\n",
        "\n",
        "reduced_features = [\n",
        "    f for f in all_features if f not in \n",
        "    ('favicon', 'submitting_to_email', 'redirect', 'right_click',\n",
        "    'popup_window', 'iframe', 'links_pointing_to_page')\n",
        "]\n",
        "\n",
        "top_features = [\n",
        "    'ssl_final_state', 'url_of_anchor', 'prefix_suffix', \n",
        "    'web_traffic', 'having_subdomain', 'links_in_tags', \n",
        "    'request_url', 'sfh', 'domain_registration_length'\n",
        "]"
      ],
      "metadata": {
        "id": "yLCKsSZdbgjH"
      },
      "execution_count": 21,
      "outputs": []
    },
    {
      "cell_type": "markdown",
      "source": [
        "# Modeling"
      ],
      "metadata": {
        "id": "2mh0-5Hxsuat"
      }
    },
    {
      "cell_type": "code",
      "source": [
        "model1 = LogisticRegression(C=0.1, max_iter=1000, random_state=SEED)\n",
        "\n",
        "model2 = Pipeline([\n",
        "    ('pca', PCA(n_components=0.95)),\n",
        "    ('lr', LogisticRegression(C=0.1, max_iter=1000, random_state=SEED))\n",
        "])\n",
        "\n",
        "model3 = RandomForestClassifier(\n",
        "    n_estimators=150, \n",
        "    max_depth=7, \n",
        "    n_jobs=-1,\n",
        "    random_state=SEED\n",
        ")"
      ],
      "metadata": {
        "id": "P1d6-79isxkG"
      },
      "execution_count": 22,
      "outputs": []
    },
    {
      "cell_type": "code",
      "source": [
        "def evaluate(model, feature_set, seed):\n",
        "    X_train, X_val, y_train, y_val = train_test_split(\n",
        "        data[feature_set], data[TARGET], \n",
        "        test_size=0.2, \n",
        "        shuffle=True, \n",
        "        stratify=data[TARGET],\n",
        "        random_state=seed\n",
        "    )\n",
        "    \n",
        "    model.fit(X_train, y_train)\n",
        "    val_probs = model.predict_proba(X_val)[:, 1]\n",
        "    val_preds = model.predict(X_val)\n",
        "\n",
        "    auc = roc_auc_score(y_val, val_probs)\n",
        "    accuracy = accuracy_score(y_val, val_preds)\n",
        "    return auc, accuracy"
      ],
      "metadata": {
        "id": "o3nEz8newYVA"
      },
      "execution_count": 23,
      "outputs": []
    },
    {
      "cell_type": "code",
      "source": [
        "def run_experiment(model, feature_set, verbose=False, runs=100):\n",
        "    training_seeds = np.random.randint(low=1, high=SEED, size=runs)\n",
        "    \n",
        "    all_auc = []\n",
        "    all_accuracy = []\n",
        "    for i, seed in enumerate(training_seeds):\n",
        "        auc, accuracy = evaluate(model, feature_set, seed)\n",
        "        all_auc.append(auc)\n",
        "        all_accuracy.append(accuracy)\n",
        "        if verbose:\n",
        "            print(f'Run #{i+1:<3} [seed = {seed:<4}]: ' \\\n",
        "                  f'AUC = {auc:.4f}, Accuracy = {accuracy:.4f}')\n",
        "        \n",
        "    print(f'\\nAverage over {runs} runs: ' \\\n",
        "          f'AUC = {np.mean(all_auc):.4f} +/- {np.std(all_auc):.4f}, ' \\\n",
        "          f'Accuracy = {np.mean(all_accuracy):.4f} +/- {np.std(all_accuracy):.4f}\\n')"
      ],
      "metadata": {
        "id": "Uc52aAnFzqUK"
      },
      "execution_count": 24,
      "outputs": []
    },
    {
      "cell_type": "markdown",
      "source": [
        "### 1. Model 1 + All features"
      ],
      "metadata": {
        "id": "8O46K57J8-3h"
      }
    },
    {
      "cell_type": "code",
      "source": [
        "run_experiment(model1, all_features, verbose=True, runs=5)"
      ],
      "metadata": {
        "colab": {
          "base_uri": "https://localhost:8080/"
        },
        "id": "ZRBMCwIyDHcY",
        "outputId": "2b5e4b2f-e70f-4a9f-bcbf-8dd54ecc43ed"
      },
      "execution_count": 25,
      "outputs": [
        {
          "output_type": "stream",
          "name": "stdout",
          "text": [
            "Run #1   [seed = 31  ]: AUC = 0.9754, Accuracy = 0.9303\n",
            "Run #2   [seed = 1135]: AUC = 0.9752, Accuracy = 0.9231\n",
            "Run #3   [seed = 1176]: AUC = 0.9777, Accuracy = 0.9240\n",
            "Run #4   [seed = 1803]: AUC = 0.9764, Accuracy = 0.9249\n",
            "Run #5   [seed = 1469]: AUC = 0.9807, Accuracy = 0.9344\n",
            "\n",
            "Average over 5 runs: AUC = 0.9771 +/- 0.0020, Accuracy = 0.9274 +/- 0.0043\n",
            "\n"
          ]
        }
      ]
    },
    {
      "cell_type": "code",
      "source": [
        "%%time\n",
        "run_experiment(model1, all_features)"
      ],
      "metadata": {
        "colab": {
          "base_uri": "https://localhost:8080/"
        },
        "id": "GoIfWsjB9EDW",
        "outputId": "334d7ef0-4af1-4cdf-92a3-0c94d3d04869"
      },
      "execution_count": 26,
      "outputs": [
        {
          "output_type": "stream",
          "name": "stdout",
          "text": [
            "\n",
            "Average over 100 runs: AUC = 0.9783 +/- 0.0020, Accuracy = 0.9271 +/- 0.0043\n",
            "\n",
            "CPU times: user 14.6 s, sys: 11.9 s, total: 26.5 s\n",
            "Wall time: 22.7 s\n"
          ]
        }
      ]
    },
    {
      "cell_type": "markdown",
      "source": [
        "### 2. Model 1 + Reduced features"
      ],
      "metadata": {
        "id": "0X3jfs849EbV"
      }
    },
    {
      "cell_type": "code",
      "source": [
        "%%time\n",
        "run_experiment(model1, reduced_features)"
      ],
      "metadata": {
        "colab": {
          "base_uri": "https://localhost:8080/"
        },
        "id": "Yrkm7ub29JSC",
        "outputId": "f771bbb5-66f3-494c-d8ca-6d9d6b6e7690"
      },
      "execution_count": 27,
      "outputs": [
        {
          "output_type": "stream",
          "name": "stdout",
          "text": [
            "\n",
            "Average over 100 runs: AUC = 0.9767 +/- 0.0021, Accuracy = 0.9248 +/- 0.0051\n",
            "\n",
            "CPU times: user 9.56 s, sys: 7.01 s, total: 16.6 s\n",
            "Wall time: 9.4 s\n"
          ]
        }
      ]
    },
    {
      "cell_type": "markdown",
      "source": [
        "### 3. Model 1 + Top features"
      ],
      "metadata": {
        "id": "IGmttyH39JqO"
      }
    },
    {
      "cell_type": "code",
      "source": [
        "%%time\n",
        "run_experiment(model1, top_features)"
      ],
      "metadata": {
        "colab": {
          "base_uri": "https://localhost:8080/"
        },
        "id": "IXauX2oV9N3v",
        "outputId": "c2d0d934-bba3-4b2e-f716-e6a21ecd158a"
      },
      "execution_count": 28,
      "outputs": [
        {
          "output_type": "stream",
          "name": "stdout",
          "text": [
            "\n",
            "Average over 100 runs: AUC = 0.9740 +/- 0.0024, Accuracy = 0.9200 +/- 0.0052\n",
            "\n",
            "CPU times: user 5.22 s, sys: 4.16 s, total: 9.38 s\n",
            "Wall time: 4.92 s\n"
          ]
        }
      ]
    },
    {
      "cell_type": "markdown",
      "source": [
        "### 4. Model 2 + All features"
      ],
      "metadata": {
        "id": "BVKZ9QCm9OS3"
      }
    },
    {
      "cell_type": "code",
      "source": [
        "%%time\n",
        "run_experiment(model2, all_features)"
      ],
      "metadata": {
        "colab": {
          "base_uri": "https://localhost:8080/"
        },
        "id": "OMa-Scex9Tr5",
        "outputId": "cc4e76e2-aae8-453c-84e9-0f3b0360dac7"
      },
      "execution_count": 29,
      "outputs": [
        {
          "output_type": "stream",
          "name": "stdout",
          "text": [
            "\n",
            "Average over 100 runs: AUC = 0.9771 +/- 0.0020, Accuracy = 0.9238 +/- 0.0052\n",
            "\n",
            "CPU times: user 10.3 s, sys: 12.6 s, total: 22.9 s\n",
            "Wall time: 12.1 s\n"
          ]
        }
      ]
    },
    {
      "cell_type": "markdown",
      "source": [
        "### 5. Model 2 + Reduced features"
      ],
      "metadata": {
        "id": "lBMMrhacDsUk"
      }
    },
    {
      "cell_type": "code",
      "source": [
        "%%time\n",
        "run_experiment(model2, reduced_features)"
      ],
      "metadata": {
        "colab": {
          "base_uri": "https://localhost:8080/"
        },
        "id": "5BYnS9iXDnV0",
        "outputId": "52c7d7cf-3be8-45df-e7b7-beb88fa749f2"
      },
      "execution_count": 30,
      "outputs": [
        {
          "output_type": "stream",
          "name": "stdout",
          "text": [
            "\n",
            "Average over 100 runs: AUC = 0.9759 +/- 0.0024, Accuracy = 0.9223 +/- 0.0058\n",
            "\n",
            "CPU times: user 8.87 s, sys: 12.1 s, total: 21 s\n",
            "Wall time: 11.3 s\n"
          ]
        }
      ]
    },
    {
      "cell_type": "markdown",
      "source": [
        "### 6. Model 2 + Top features"
      ],
      "metadata": {
        "id": "khBfABfcD0k7"
      }
    },
    {
      "cell_type": "code",
      "source": [
        "%%time\n",
        "run_experiment(model2, top_features)"
      ],
      "metadata": {
        "colab": {
          "base_uri": "https://localhost:8080/"
        },
        "id": "JuGlQuWpD6Jw",
        "outputId": "a510eede-4ddb-49ec-da9b-8fecb7d805c2"
      },
      "execution_count": 31,
      "outputs": [
        {
          "output_type": "stream",
          "name": "stdout",
          "text": [
            "\n",
            "Average over 100 runs: AUC = 0.9736 +/- 0.0026, Accuracy = 0.9210 +/- 0.0051\n",
            "\n",
            "CPU times: user 6.16 s, sys: 8.46 s, total: 14.6 s\n",
            "Wall time: 7.61 s\n"
          ]
        }
      ]
    },
    {
      "cell_type": "markdown",
      "source": [
        "### 7. Model 3 + All features"
      ],
      "metadata": {
        "id": "a2qRwd3s9UAn"
      }
    },
    {
      "cell_type": "code",
      "source": [
        "%%time\n",
        "run_experiment(model3, all_features)"
      ],
      "metadata": {
        "colab": {
          "base_uri": "https://localhost:8080/"
        },
        "id": "dI6UJYOh9mFz",
        "outputId": "c0afc1c3-aa00-4c3e-b482-08ddae77a7b9"
      },
      "execution_count": 32,
      "outputs": [
        {
          "output_type": "stream",
          "name": "stdout",
          "text": [
            "\n",
            "Average over 100 runs: AUC = 0.9871 +/- 0.0016, Accuracy = 0.9383 +/- 0.0058\n",
            "\n",
            "CPU times: user 1min 48s, sys: 6.23 s, total: 1min 54s\n",
            "Wall time: 1min 15s\n"
          ]
        }
      ]
    },
    {
      "cell_type": "markdown",
      "source": [
        "### 8. Model 3 + Reduced features"
      ],
      "metadata": {
        "id": "hF7xansuD4ui"
      }
    },
    {
      "cell_type": "code",
      "source": [
        "%%time\n",
        "run_experiment(model3, reduced_features)"
      ],
      "metadata": {
        "colab": {
          "base_uri": "https://localhost:8080/"
        },
        "id": "CirUCDn9EIFn",
        "outputId": "2ade7d94-0b6e-4531-a686-a0c072446d9e"
      },
      "execution_count": 33,
      "outputs": [
        {
          "output_type": "stream",
          "name": "stdout",
          "text": [
            "\n",
            "Average over 100 runs: AUC = 0.9868 +/- 0.0015, Accuracy = 0.9383 +/- 0.0047\n",
            "\n",
            "CPU times: user 1min 42s, sys: 5.66 s, total: 1min 48s\n",
            "Wall time: 1min 19s\n"
          ]
        }
      ]
    },
    {
      "cell_type": "markdown",
      "source": [
        "### 9. Model 3 + Top features"
      ],
      "metadata": {
        "id": "iZ2bZ6RcEE2R"
      }
    },
    {
      "cell_type": "code",
      "source": [
        "%%time\n",
        "run_experiment(model3, top_features)"
      ],
      "metadata": {
        "colab": {
          "base_uri": "https://localhost:8080/"
        },
        "id": "sqaaHiimEKUh",
        "outputId": "c502c460-985d-4327-e8c5-4785317143fa"
      },
      "execution_count": 34,
      "outputs": [
        {
          "output_type": "stream",
          "name": "stdout",
          "text": [
            "\n",
            "Average over 100 runs: AUC = 0.9860 +/- 0.0016, Accuracy = 0.9364 +/- 0.0047\n",
            "\n",
            "CPU times: user 1min 34s, sys: 5.57 s, total: 1min 40s\n",
            "Wall time: 1min 14s\n"
          ]
        }
      ]
    },
    {
      "cell_type": "markdown",
      "source": [
        "# Summary"
      ],
      "metadata": {
        "id": "0J3FUDeoPBK9"
      }
    },
    {
      "cell_type": "markdown",
      "source": [
        "* We tried three ML models for binary classification: \n",
        "    1. Logistic Regression (LR)\n",
        "    2. Principal Component Analysis + Logistic Regression pipeline (PCA-LR)\n",
        "    3. RandomForestClassifier (RF)\n",
        "\n",
        "* All three models show very small drop in accuracy (maximum of 0.7% for LR) even when feature set is reduced by 70%, while training time gets shorter. \n",
        "* PCA-LR shows consistent performance since components have variance in decreasing order so most of the information is captured by the first few components. RF also shows no significant drop in performance since it is able to utilize the informative features better, compared to a linear model like LR.\n",
        "* Thus, we can prioritize working with a smaller feature set first and see if it is enough to outperform these models. The reduction in training time might be more valuable for fitting a complex model like a neural network as compared to these simple models.\n",
        "* **When modeling with neural networks, we should be aiming to beat this baseline performance: AUC = ~0.987 and Accuracy = ~94%**"
      ],
      "metadata": {
        "id": "1pjJy4zFPEyz"
      }
    }
  ]
}