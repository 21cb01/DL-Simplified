{
  "nbformat": 4,
  "nbformat_minor": 0,
  "metadata": {
    "colab": {
      "provenance": []
    },
    "kernelspec": {
      "name": "python3",
      "display_name": "Python 3"
    },
    "language_info": {
      "name": "python"
    }
  },
  "cells": [
    {
      "cell_type": "markdown",
      "source": [
        "Stock prediction model using LSTM.\n",
        "\n",
        "> Made by: Garv Saxena\n",
        "\n",
        "> For SWOC S3"
      ],
      "metadata": {
        "id": "Y-vbMeUkU2Pd"
      }
    },
    {
      "cell_type": "code",
      "source": [
        "#Updating the modules (otherwise error message in fetching dataset from yahoo)\n",
        "!pip install --upgrade pandas"
      ],
      "metadata": {
        "id": "QQKNJkYHrilk",
        "colab": {
          "base_uri": "https://localhost:8080/"
        },
        "outputId": "7302306c-7dbf-41dc-b770-767b3b547a8f"
      },
      "execution_count": null,
      "outputs": [
        {
          "output_type": "stream",
          "name": "stdout",
          "text": [
            "Looking in indexes: https://pypi.org/simple, https://us-python.pkg.dev/colab-wheels/public/simple/\n",
            "Requirement already satisfied: pandas in /usr/local/lib/python3.8/dist-packages (1.3.5)\n",
            "Collecting pandas\n",
            "  Downloading pandas-1.5.2-cp38-cp38-manylinux_2_17_x86_64.manylinux2014_x86_64.whl (12.2 MB)\n",
            "\u001b[K     |████████████████████████████████| 12.2 MB 6.8 MB/s \n",
            "\u001b[?25hRequirement already satisfied: python-dateutil>=2.8.1 in /usr/local/lib/python3.8/dist-packages (from pandas) (2.8.2)\n",
            "Requirement already satisfied: pytz>=2020.1 in /usr/local/lib/python3.8/dist-packages (from pandas) (2022.6)\n",
            "Requirement already satisfied: numpy>=1.20.3 in /usr/local/lib/python3.8/dist-packages (from pandas) (1.21.6)\n",
            "Requirement already satisfied: six>=1.5 in /usr/local/lib/python3.8/dist-packages (from python-dateutil>=2.8.1->pandas) (1.15.0)\n",
            "Installing collected packages: pandas\n",
            "  Attempting uninstall: pandas\n",
            "    Found existing installation: pandas 1.3.5\n",
            "    Uninstalling pandas-1.3.5:\n",
            "      Successfully uninstalled pandas-1.3.5\n",
            "Successfully installed pandas-1.5.2\n"
          ]
        }
      ]
    },
    {
      "cell_type": "code",
      "source": [
        "pip install pycryptodome pycryptodomex"
      ],
      "metadata": {
        "id": "MvEQJsPNE-H8",
        "colab": {
          "base_uri": "https://localhost:8080/"
        },
        "outputId": "764c0068-566c-4d49-ec8f-d640250900d0"
      },
      "execution_count": null,
      "outputs": [
        {
          "output_type": "stream",
          "name": "stdout",
          "text": [
            "Looking in indexes: https://pypi.org/simple, https://us-python.pkg.dev/colab-wheels/public/simple/\n",
            "Collecting pycryptodome\n",
            "  Downloading pycryptodome-3.16.0-cp35-abi3-manylinux_2_5_x86_64.manylinux1_x86_64.manylinux_2_12_x86_64.manylinux2010_x86_64.whl (2.3 MB)\n",
            "\u001b[K     |████████████████████████████████| 2.3 MB 6.2 MB/s \n",
            "\u001b[?25hCollecting pycryptodomex\n",
            "  Downloading pycryptodomex-3.16.0-cp35-abi3-manylinux_2_5_x86_64.manylinux1_x86_64.manylinux_2_12_x86_64.manylinux2010_x86_64.whl (2.3 MB)\n",
            "\u001b[K     |████████████████████████████████| 2.3 MB 67.0 MB/s \n",
            "\u001b[?25hInstalling collected packages: pycryptodomex, pycryptodome\n",
            "Successfully installed pycryptodome-3.16.0 pycryptodomex-3.16.0\n"
          ]
        }
      ]
    },
    {
      "cell_type": "code",
      "source": [
        "pip uninstall --yes pandas-datareader"
      ],
      "metadata": {
        "id": "IIB5Y9IlE-_T",
        "colab": {
          "base_uri": "https://localhost:8080/"
        },
        "outputId": "4ab17f3b-bcac-474e-ab28-a26badd71989"
      },
      "execution_count": null,
      "outputs": [
        {
          "output_type": "stream",
          "name": "stdout",
          "text": [
            "Found existing installation: pandas-datareader 0.9.0\n",
            "Uninstalling pandas-datareader-0.9.0:\n",
            "  Successfully uninstalled pandas-datareader-0.9.0\n"
          ]
        }
      ]
    },
    {
      "cell_type": "code",
      "source": [
        "pip install git+https://github.com/raphi6/pandas-datareader.git@ea66d6b981554f9d0262038aef2106dda7138316\n",
        "#Restart the Runtime after installing this"
      ],
      "metadata": {
        "id": "xZBJTZ4JE_ir",
        "colab": {
          "base_uri": "https://localhost:8080/"
        },
        "outputId": "04017ba0-1ea4-4221-e98a-b6a87ee31bbe"
      },
      "execution_count": null,
      "outputs": [
        {
          "output_type": "stream",
          "name": "stdout",
          "text": [
            "Looking in indexes: https://pypi.org/simple, https://us-python.pkg.dev/colab-wheels/public/simple/\n",
            "Collecting git+https://github.com/raphi6/pandas-datareader.git@ea66d6b981554f9d0262038aef2106dda7138316\n",
            "  Cloning https://github.com/raphi6/pandas-datareader.git (to revision ea66d6b981554f9d0262038aef2106dda7138316) to /tmp/pip-req-build-0cdxfbu1\n",
            "  Running command git clone -q https://github.com/raphi6/pandas-datareader.git /tmp/pip-req-build-0cdxfbu1\n",
            "  Running command git rev-parse -q --verify 'sha^ea66d6b981554f9d0262038aef2106dda7138316'\n",
            "  Running command git fetch -q https://github.com/raphi6/pandas-datareader.git ea66d6b981554f9d0262038aef2106dda7138316\n",
            "  Running command git checkout -q ea66d6b981554f9d0262038aef2106dda7138316\n",
            "Requirement already satisfied: lxml in /usr/local/lib/python3.8/dist-packages (from pandas-datareader==0+untagged.811.gea66d6b) (4.9.2)\n",
            "Requirement already satisfied: pandas>=0.23 in /usr/local/lib/python3.8/dist-packages (from pandas-datareader==0+untagged.811.gea66d6b) (1.5.2)\n",
            "Requirement already satisfied: requests>=2.19.0 in /usr/local/lib/python3.8/dist-packages (from pandas-datareader==0+untagged.811.gea66d6b) (2.23.0)\n",
            "Requirement already satisfied: numpy>=1.20.3 in /usr/local/lib/python3.8/dist-packages (from pandas>=0.23->pandas-datareader==0+untagged.811.gea66d6b) (1.21.6)\n",
            "Requirement already satisfied: python-dateutil>=2.8.1 in /usr/local/lib/python3.8/dist-packages (from pandas>=0.23->pandas-datareader==0+untagged.811.gea66d6b) (2.8.2)\n",
            "Requirement already satisfied: pytz>=2020.1 in /usr/local/lib/python3.8/dist-packages (from pandas>=0.23->pandas-datareader==0+untagged.811.gea66d6b) (2022.6)\n",
            "Requirement already satisfied: six>=1.5 in /usr/local/lib/python3.8/dist-packages (from python-dateutil>=2.8.1->pandas>=0.23->pandas-datareader==0+untagged.811.gea66d6b) (1.15.0)\n",
            "Requirement already satisfied: urllib3!=1.25.0,!=1.25.1,<1.26,>=1.21.1 in /usr/local/lib/python3.8/dist-packages (from requests>=2.19.0->pandas-datareader==0+untagged.811.gea66d6b) (1.24.3)\n",
            "Requirement already satisfied: certifi>=2017.4.17 in /usr/local/lib/python3.8/dist-packages (from requests>=2.19.0->pandas-datareader==0+untagged.811.gea66d6b) (2022.12.7)\n",
            "Requirement already satisfied: idna<3,>=2.5 in /usr/local/lib/python3.8/dist-packages (from requests>=2.19.0->pandas-datareader==0+untagged.811.gea66d6b) (2.10)\n",
            "Requirement already satisfied: chardet<4,>=3.0.2 in /usr/local/lib/python3.8/dist-packages (from requests>=2.19.0->pandas-datareader==0+untagged.811.gea66d6b) (3.0.4)\n"
          ]
        }
      ]
    },
    {
      "cell_type": "code",
      "source": [
        "#Updating the modules (otherwise error message in fetching dataset from yahoo)\n",
        "#!pip install --upgrade pandas-datareader"
      ],
      "metadata": {
        "id": "O4hY0KXrriFm"
      },
      "execution_count": null,
      "outputs": []
    },
    {
      "cell_type": "code",
      "execution_count": null,
      "metadata": {
        "id": "bhm2aepdnwoZ"
      },
      "outputs": [],
      "source": [
        "#Importing libraries\n",
        "import pandas_datareader as dr\n",
        "import numpy as np\n",
        "import pandas as pd\n",
        "from sklearn.preprocessing import MinMaxScaler\n",
        "from keras.models import Sequential\n",
        "from keras.layers import Dense, LSTM, Dropout\n",
        "import matplotlib.pyplot as plt\n",
        "\n",
        "#2138 is training size\n",
        "#549 is testing size"
      ]
    },
    {
      "cell_type": "code",
      "source": [
        "#building dataframe for tata motors stock from yahoo finance\n",
        "df = dr.DataReader('TTM',data_source = 'yahoo',start = '2012-01-01',end='2022-12-31')\n",
        "df.head"
      ],
      "metadata": {
        "id": "Xaxlm9sMsX2r",
        "colab": {
          "base_uri": "https://localhost:8080/"
        },
        "outputId": "aa3735dd-3263-464d-8321-bf8b82400497"
      },
      "execution_count": null,
      "outputs": [
        {
          "output_type": "execute_result",
          "data": {
            "text/plain": [
              "<bound method NDFrame.head of                  High        Low       Open      Close     Volume  Adj Close\n",
              "Date                                                                        \n",
              "2012-01-03  18.320000  17.820000  17.820000  18.110001  1919900.0  17.598066\n",
              "2012-01-04  19.000000  18.440001  18.440001  18.790001  2907600.0  18.258844\n",
              "2012-01-05  19.180000  18.700001  18.790001  19.100000  1765300.0  18.560083\n",
              "2012-01-06  19.180000  18.889999  19.080000  19.049999  1877900.0  18.511492\n",
              "2012-01-09  19.150000  18.760000  18.820000  19.129999  1216100.0  18.589231\n",
              "...               ...        ...        ...        ...        ...        ...\n",
              "2022-12-22  23.400000  22.370001  23.260000  22.860001  1218100.0  22.860001\n",
              "2022-12-23  22.410000  22.059999  22.250000  22.350000   969400.0  22.350000\n",
              "2022-12-27  23.389999  23.160000  23.209999  23.260000  1349700.0  23.260000\n",
              "2022-12-28  23.590000  23.209999  23.209999  23.309999   951400.0  23.309999\n",
              "2022-12-29  23.379999  23.040001  23.150000  23.209999   634800.0  23.209999\n",
              "\n",
              "[2767 rows x 6 columns]>"
            ]
          },
          "metadata": {},
          "execution_count": 7
        }
      ]
    },
    {
      "cell_type": "code",
      "source": [
        "#Ploting tata stock price (Just for Fun)\n",
        "plt.figure(figsize=(9,4))\n",
        "plt.title(\"Tata Motors Closing Price History\")\n",
        "plt.plot(df['Close'])\n",
        "plt.xlabel('Date',fontsize=10)\n",
        "plt.ylabel('Close Price in $')\n",
        "plt.show()"
      ],
      "metadata": {
        "colab": {
          "base_uri": "https://localhost:8080/",
          "height": 295
        },
        "id": "rmDjNAMdwTt0",
        "outputId": "16387e28-1e15-449d-f73d-f89edb737758"
      },
      "execution_count": null,
      "outputs": [
        {
          "output_type": "display_data",
          "data": {
            "text/plain": [
              "<Figure size 648x288 with 1 Axes>"
            ],
            "image/png": "[encoded data removed]"
          },
          "metadata": {
            "needs_background": "light"
          }
        }
      ]
    },
    {
      "cell_type": "code",
      "source": [
        "#Filtering only required column \"Here we only considering Close stock price\" From DataFrame\n",
        "data = df.filter(['Close'])\n"
      ],
      "metadata": {
        "id": "ngTbJqy1wTzD"
      },
      "execution_count": null,
      "outputs": []
    },
    {
      "cell_type": "code",
      "source": [
        "#Converting data frame to NumPy array And calculating 80% data length for training data length\n",
        "dataset = data.values\n",
        "train_data_len = round(len(dataset) * 0.8)"
      ],
      "metadata": {
        "id": "eAC-P760mn8L"
      },
      "execution_count": null,
      "outputs": []
    },
    {
      "cell_type": "code",
      "source": [
        "#Scaling the training data between 0 to 1 for our LSTM model\n",
        "train_data  = dataset[0:train_data_len,:] #Taking 80% of total dataset for training\n",
        "\n",
        "scaler = MinMaxScaler(feature_range=(0,1))\n",
        "scaled_data_train = scaler.fit_transform(train_data) #Scaling training data"
      ],
      "metadata": {
        "id": "3tNpvNAnysRt"
      },
      "execution_count": null,
      "outputs": []
    },
    {
      "cell_type": "code",
      "source": [
        "#Appending the past 60s days closing values to x_train(Inputs) and appending 61th Closing value to y_train(Output)\n",
        "x_train = [] #inputs past 60 days closing values\n",
        "y_train = [] #output 61th day closing value\n",
        "for i in range(60, train_data_len):\n",
        "  x_train.append(scaled_data_train[i-60:i,0])\n",
        "  y_train.append(scaled_data_train[i,0])"
      ],
      "metadata": {
        "id": "6KJABmKkzUHT"
      },
      "execution_count": null,
      "outputs": []
    },
    {
      "cell_type": "code",
      "source": [
        "#Converting list to NumPy array\n",
        "x_train = np.array(x_train)\n",
        "y_train = np.array(y_train)\n",
        "x_train = x_train.reshape(len(x_train),60,1)"
      ],
      "metadata": {
        "id": "SxdTA7uSzU-n"
      },
      "execution_count": null,
      "outputs": []
    },
    {
      "cell_type": "code",
      "source": [
        "#Building LSTM Model and layers\n",
        "model = Sequential()\n",
        "model.add(LSTM(60,return_sequences=True, input_shape = (60, 1)))\n",
        "#model.add(Dropout(0.5))\n",
        "model.add(LSTM(31))\n",
        "model.add(Dense(1))\n",
        "#print(model.summary())"
      ],
      "metadata": {
        "id": "UDPCHPZu2yZP"
      },
      "execution_count": null,
      "outputs": []
    },
    {
      "cell_type": "code",
      "source": [
        "#Compling and Fit the model\n",
        "model.compile(optimizer=\"Nadam\", loss='mean_squared_error')\n",
        "model.fit(x_train,y_train, batch_size=5, epochs=5)"
      ],
      "metadata": {
        "colab": {
          "base_uri": "https://localhost:8080/"
        },
        "id": "WmESl_jn5S17",
        "outputId": "7604e53d-dadd-4df9-f241-be4af938a70c"
      },
      "execution_count": null,
      "outputs": [
        {
          "output_type": "stream",
          "name": "stdout",
          "text": [
            "Epoch 1/5\n",
            "431/431 [==============================] - 64s 44ms/step - loss: 7.2976e-04\n",
            "Epoch 2/5\n",
            "431/431 [==============================] - 19s 44ms/step - loss: 4.4634e-04\n",
            "Epoch 3/5\n",
            "431/431 [==============================] - 24s 55ms/step - loss: 3.4788e-04\n",
            "Epoch 4/5\n",
            "431/431 [==============================] - 19s 44ms/step - loss: 2.8921e-04\n",
            "Epoch 5/5\n",
            "431/431 [==============================] - 19s 44ms/step - loss: 2.6560e-04\n"
          ]
        },
        {
          "output_type": "execute_result",
          "data": {
            "text/plain": [
              "<keras.callbacks.History at 0x7f1ab577d040>"
            ]
          },
          "metadata": {},
          "execution_count": 69
        }
      ]
    },
    {
      "cell_type": "code",
      "source": [
        "#Appending the past 60s days closing values to x_test(Test Inputs)\n",
        "test_data = dataset[train_data_len - 60: , :]\n",
        "test_data = scaler.fit_transform(test_data)\n",
        "x_test = []\n",
        "for i in range(60, len(test_data)):\n",
        "  x_test.append(test_data[i-60:i,0])\n",
        "\n",
        "#Storing Actual Closing values to y_test\n",
        "y_test = dataset[train_data_len:, :]"
      ],
      "metadata": {
        "id": "fF15XLKO5xxM"
      },
      "execution_count": null,
      "outputs": []
    },
    {
      "cell_type": "code",
      "source": [
        "#Converting x_test to NumPy array and reshape it\n",
        "x_test = np.array(x_test)\n",
        "x_test = x_test.reshape(len(x_test),60,1)"
      ],
      "metadata": {
        "id": "h0I0Yjw-7SXL"
      },
      "execution_count": null,
      "outputs": []
    },
    {
      "cell_type": "code",
      "source": [
        "#Predicting the closing value till original dataset\n",
        "pred = model.predict(x_test)\n",
        "pred_inverse = scaler.inverse_transform(pred)"
      ],
      "metadata": {
        "id": "lT132FL27c9M",
        "colab": {
          "base_uri": "https://localhost:8080/"
        },
        "outputId": "a142b96f-b8aa-45cd-db72-70135a1f032d"
      },
      "execution_count": null,
      "outputs": [
        {
          "output_type": "stream",
          "name": "stdout",
          "text": [
            "18/18 [==============================] - 1s 16ms/step\n"
          ]
        }
      ]
    },
    {
      "cell_type": "code",
      "source": [
        "#Predicting Future 5 Days Values\n",
        "\n",
        "#Predicting +1 Day from last day of dataset\n",
        "x_test_59_1 = x_test[len(x_test)-1][1:60]\n",
        "x_test_59_1 = np.append(x_test_59_1, [pred[len(pred)-1]], axis=0)\n",
        "x_test_59_1 = x_test_59_1.reshape(1,60,1)\n",
        "predp = model.predict(x_test_59_1)\n",
        "\n",
        "#Predicting +2 Day from last day of dataset\n",
        "x_test_59_2 = x_test_59_1[0][1:60]\n",
        "x_test_59_2 = np.append(x_test_59_2, [predp[len(predp)-1]], axis=0)\n",
        "x_test_59_2 = x_test_59_2.reshape(1,60,1)\n",
        "predpp = model.predict(x_test_59_2)\n",
        "\n",
        "#Predicting +3 Day from last day of dataset\n",
        "x_test_59_3 = x_test_59_2[0][1:60]\n",
        "x_test_59_3 = np.append(x_test_59_3, [predpp[len(predpp)-1]], axis=0)\n",
        "x_test_59_3 = x_test_59_3.reshape(1,60,1)\n",
        "predppp = model.predict(x_test_59_3)\n",
        "\n",
        "#Predicting +4 Day from last day of dataset\n",
        "x_test_59_4 = x_test_59_3[0][1:60]\n",
        "x_test_59_4 = np.append(x_test_59_4, [predppp[len(predppp)-1]], axis=0)\n",
        "x_test_59_4 = x_test_59_4.reshape(1,60,1)\n",
        "predpppp = model.predict(x_test_59_4)\n",
        "\n",
        "#Predicting +5 Day from last day of dataset\n",
        "x_test_59_5 = x_test_59_4[0][1:60]\n",
        "x_test_59_5 = np.append(x_test_59_5, [predpppp[len(predpppp)-1]], axis=0)\n",
        "x_test_59_5 = x_test_59_5.reshape(1,60,1)\n",
        "predppppp = model.predict(x_test_59_5)\n",
        "\n",
        "print('+1')\n",
        "print(scaler.inverse_transform(predp))\n",
        "print('+2')\n",
        "print(scaler.inverse_transform(predpp))\n",
        "print('+3')\n",
        "print(scaler.inverse_transform(predppp)) #Converting back to original value \n",
        "print('+4')\n",
        "print(scaler.inverse_transform(predpppp))\n",
        "print('+5')\n",
        "print(scaler.inverse_transform(predppppp))\n"
      ],
      "metadata": {
        "colab": {
          "base_uri": "https://localhost:8080/"
        },
        "id": "ODKKEK6cx4ba",
        "outputId": "15665143-c914-48b0-fd40-18da3ce9c03a"
      },
      "execution_count": null,
      "outputs": [
        {
          "output_type": "stream",
          "name": "stdout",
          "text": [
            "1/1 [==============================] - 0s 42ms/step\n",
            "1/1 [==============================] - 0s 52ms/step\n",
            "1/1 [==============================] - 0s 40ms/step\n",
            "1/1 [==============================] - 0s 47ms/step\n",
            "1/1 [==============================] - 0s 47ms/step\n",
            "+1\n",
            "[[22.759594]]\n",
            "+2\n",
            "[[22.801794]]\n",
            "+3\n",
            "[[22.723442]]\n",
            "+4\n",
            "[[22.613783]]\n",
            "+5\n",
            "[[22.536537]]\n"
          ]
        }
      ]
    },
    {
      "cell_type": "code",
      "source": [
        "#Calculating Root Mean Square Error \n",
        "rmse=np.sqrt(np.mean(((pred_inverse - y_test)**2)))\n",
        "rmse \n",
        "#Last Best:- 0.9894429065605955"
      ],
      "metadata": {
        "id": "2v9qnvdN8pRk",
        "colab": {
          "base_uri": "https://localhost:8080/"
        },
        "outputId": "80c87e81-993b-4917-8d4c-c54cd27656c3"
      },
      "execution_count": null,
      "outputs": [
        {
          "output_type": "execute_result",
          "data": {
            "text/plain": [
              "1.1479033167210901"
            ]
          },
          "metadata": {},
          "execution_count": 71
        }
      ]
    },
    {
      "cell_type": "code",
      "source": [
        "rmspe = np.sqrt(np.mean(np.square(((y_test - pred_inverse) / y_test)), axis=0))\n",
        "rmspe"
      ],
      "metadata": {
        "colab": {
          "base_uri": "https://localhost:8080/"
        },
        "id": "KO-YDg4yPlNR",
        "outputId": "cce91b05-ff97-4e86-84bc-4aa98990b6b2"
      },
      "execution_count": null,
      "outputs": [
        {
          "output_type": "execute_result",
          "data": {
            "text/plain": [
              "array([0.03966288])"
            ]
          },
          "metadata": {},
          "execution_count": 20
        }
      ]
    },
    {
      "cell_type": "code",
      "source": [
        "#Adding Actual and Predicted values of closing price in valid NumPy array\n",
        "train = data[:train_data_len]\n",
        "valid = data[train_data_len:]\n",
        "valid['pred'] = pred_inverse\n",
        "valid"
      ],
      "metadata": {
        "id": "-mIkRArC_4Yy",
        "colab": {
          "base_uri": "https://localhost:8080/",
          "height": 559
        },
        "outputId": "f16c1ccc-17c8-467c-b018-0f1432b1b950"
      },
      "execution_count": null,
      "outputs": [
        {
          "output_type": "stream",
          "name": "stderr",
          "text": [
            "<ipython-input-58-f845359b1653>:4: SettingWithCopyWarning: \n",
            "A value is trying to be set on a copy of a slice from a DataFrame.\n",
            "Try using .loc[row_indexer,col_indexer] = value instead\n",
            "\n",
            "See the caveats in the documentation: https://pandas.pydata.org/pandas-docs/stable/user_guide/indexing.html#returning-a-view-versus-a-copy\n",
            "  valid['pred'] = pred_inverse\n"
          ]
        },
        {
          "output_type": "execute_result",
          "data": {
            "text/plain": [
              "                Close       pred\n",
              "Date                            \n",
              "2020-10-20   8.920000   8.970093\n",
              "2020-10-21   8.840000   8.890950\n",
              "2020-10-22   9.120000   8.856079\n",
              "2020-10-23   9.320000   8.872856\n",
              "2020-10-26   9.060000   8.941902\n",
              "...               ...        ...\n",
              "2022-12-22  22.860001  24.377186\n",
              "2022-12-23  22.350000  23.843910\n",
              "2022-12-27  23.260000  23.010824\n",
              "2022-12-28  23.309999  22.536596\n",
              "2022-12-29  23.209999  22.598318\n",
              "\n",
              "[553 rows x 2 columns]"
            ],
            "text/html": [
              "\n",
              "  <div id=\"df-d147d6d3-e3b1-457c-8e28-4b4379ef2d4a\">\n",
              "    <div class=\"colab-df-container\">\n",
              "      <div>\n",
              "<style scoped>\n",
              "    .dataframe tbody tr th:only-of-type {\n",
              "        vertical-align: middle;\n",
              "    }\n",
              "\n",
              "    .dataframe tbody tr th {\n",
              "        vertical-align: top;\n",
              "    }\n",
              "\n",
              "    .dataframe thead th {\n",
              "        text-align: right;\n",
              "    }\n",
              "</style>\n",
              "<table border=\"1\" class=\"dataframe\">\n",
              "  <thead>\n",
              "    <tr style=\"text-align: right;\">\n",
              "      <th></th>\n",
              "      <th>Close</th>\n",
              "      <th>pred</th>\n",
              "    </tr>\n",
              "    <tr>\n",
              "      <th>Date</th>\n",
              "      <th></th>\n",
              "      <th></th>\n",
              "    </tr>\n",
              "  </thead>\n",
              "  <tbody>\n",
              "    <tr>\n",
              "      <th>2020-10-20</th>\n",
              "      <td>8.920000</td>\n",
              "      <td>8.970093</td>\n",
              "    </tr>\n",
              "    <tr>\n",
              "      <th>2020-10-21</th>\n",
              "      <td>8.840000</td>\n",
              "      <td>8.890950</td>\n",
              "    </tr>\n",
              "    <tr>\n",
              "      <th>2020-10-22</th>\n",
              "      <td>9.120000</td>\n",
              "      <td>8.856079</td>\n",
              "    </tr>\n",
              "    <tr>\n",
              "      <th>2020-10-23</th>\n",
              "      <td>9.320000</td>\n",
              "      <td>8.872856</td>\n",
              "    </tr>\n",
              "    <tr>\n",
              "      <th>2020-10-26</th>\n",
              "      <td>9.060000</td>\n",
              "      <td>8.941902</td>\n",
              "    </tr>\n",
              "    <tr>\n",
              "      <th>...</th>\n",
              "      <td>...</td>\n",
              "      <td>...</td>\n",
              "    </tr>\n",
              "    <tr>\n",
              "      <th>2022-12-22</th>\n",
              "      <td>22.860001</td>\n",
              "      <td>24.377186</td>\n",
              "    </tr>\n",
              "    <tr>\n",
              "      <th>2022-12-23</th>\n",
              "      <td>22.350000</td>\n",
              "      <td>23.843910</td>\n",
              "    </tr>\n",
              "    <tr>\n",
              "      <th>2022-12-27</th>\n",
              "      <td>23.260000</td>\n",
              "      <td>23.010824</td>\n",
              "    </tr>\n",
              "    <tr>\n",
              "      <th>2022-12-28</th>\n",
              "      <td>23.309999</td>\n",
              "      <td>22.536596</td>\n",
              "    </tr>\n",
              "    <tr>\n",
              "      <th>2022-12-29</th>\n",
              "      <td>23.209999</td>\n",
              "      <td>22.598318</td>\n",
              "    </tr>\n",
              "  </tbody>\n",
              "</table>\n",
              "<p>553 rows × 2 columns</p>\n",
              "</div>\n",
              "      <button class=\"colab-df-convert\" onclick=\"convertToInteractive('df-d147d6d3-e3b1-457c-8e28-4b4379ef2d4a')\"\n",
              "              title=\"Convert this dataframe to an interactive table.\"\n",
              "              style=\"display:none;\">\n",
              "        \n",
              "  <svg xmlns=\"http://www.w3.org/2000/svg\" height=\"24px\"viewBox=\"0 0 24 24\"\n",
              "       width=\"24px\">\n",
              "    <path d=\"M0 0h24v24H0V0z\" fill=\"none\"/>\n",
              "    <path d=\"M18.56 5.44l.94 2.06.94-2.06 2.06-.94-2.06-.94-.94-2.06-.94 2.06-2.06.94zm-11 1L8.5 8.5l.94-2.06 2.06-.94-2.06-.94L8.5 2.5l-.94 2.06-2.06.94zm10 10l.94 2.06.94-2.06 2.06-.94-2.06-.94-.94-2.06-.94 2.06-2.06.94z\"/><path d=\"M17.41 7.96l-1.37-1.37c-.4-.4-.92-.59-1.43-.59-.52 0-1.04.2-1.43.59L10.3 9.45l-7.72 7.72c-.78.78-.78 2.05 0 2.83L4 21.41c.39.39.9.59 1.41.59.51 0 1.02-.2 1.41-.59l7.78-7.78 2.81-2.81c.8-.78.8-2.07 0-2.86zM5.41 20L4 18.59l7.72-7.72 1.47 1.35L5.41 20z\"/>\n",
              "  </svg>\n",
              "      </button>\n",
              "      \n",
              "  <style>\n",
              "    .colab-df-container {\n",
              "      display:flex;\n",
              "      flex-wrap:wrap;\n",
              "      gap: 12px;\n",
              "    }\n",
              "\n",
              "    .colab-df-convert {\n",
              "      background-color: #E8F0FE;\n",
              "      border: none;\n",
              "      border-radius: 50%;\n",
              "      cursor: pointer;\n",
              "      display: none;\n",
              "      fill: #1967D2;\n",
              "      height: 32px;\n",
              "      padding: 0 0 0 0;\n",
              "      width: 32px;\n",
              "    }\n",
              "\n",
              "    .colab-df-convert:hover {\n",
              "      background-color: #E2EBFA;\n",
              "      box-shadow: 0px 1px 2px rgba(60, 64, 67, 0.3), 0px 1px 3px 1px rgba(60, 64, 67, 0.15);\n",
              "      fill: #174EA6;\n",
              "    }\n",
              "\n",
              "    [theme=dark] .colab-df-convert {\n",
              "      background-color: #3B4455;\n",
              "      fill: #D2E3FC;\n",
              "    }\n",
              "\n",
              "    [theme=dark] .colab-df-convert:hover {\n",
              "      background-color: #434B5C;\n",
              "      box-shadow: 0px 1px 3px 1px rgba(0, 0, 0, 0.15);\n",
              "      filter: drop-shadow(0px 1px 2px rgba(0, 0, 0, 0.3));\n",
              "      fill: #FFFFFF;\n",
              "    }\n",
              "  </style>\n",
              "\n",
              "      <script>\n",
              "        const buttonEl =\n",
              "          document.querySelector('#df-d147d6d3-e3b1-457c-8e28-4b4379ef2d4a button.colab-df-convert');\n",
              "        buttonEl.style.display =\n",
              "          google.colab.kernel.accessAllowed ? 'block' : 'none';\n",
              "\n",
              "        async function convertToInteractive(key) {\n",
              "          const element = document.querySelector('#df-d147d6d3-e3b1-457c-8e28-4b4379ef2d4a');\n",
              "          const dataTable =\n",
              "            await google.colab.kernel.invokeFunction('convertToInteractive',\n",
              "                                                     [key], {});\n",
              "          if (!dataTable) return;\n",
              "\n",
              "          const docLinkHtml = 'Like what you see? Visit the ' +\n",
              "            '<a target=\"_blank\" href=https://colab.research.google.com/notebooks/data_table.ipynb>data table notebook</a>'\n",
              "            + ' to learn more about interactive tables.';\n",
              "          element.innerHTML = '';\n",
              "          dataTable['output_type'] = 'display_data';\n",
              "          await google.colab.output.renderOutput(dataTable, element);\n",
              "          const docLink = document.createElement('div');\n",
              "          docLink.innerHTML = docLinkHtml;\n",
              "          element.appendChild(docLink);\n",
              "        }\n",
              "      </script>\n",
              "    </div>\n",
              "  </div>\n",
              "  "
            ]
          },
          "metadata": {},
          "execution_count": 58
        }
      ]
    },
    {
      "cell_type": "code",
      "source": [
        "#Ploting the Graph for training data + Predicted data + Actual Data\n",
        "plt.figure(figsize=(15,10))\n",
        "plt.title(\"Tata Motors Stock Price Preditions\")\n",
        "plt.xlabel(\"Date\",fontsize=18)\n",
        "plt.ylabel(\"Close Price in $\",fontsize=18)\n",
        "plt.plot(train['Close'])\n",
        "plt.plot(valid[['Close', 'pred']])\n",
        "plt.legend(['Train','Actual','Predited'])\n",
        "plt.show()"
      ],
      "metadata": {
        "id": "NMbtgJJzBfId",
        "colab": {
          "base_uri": "https://localhost:8080/",
          "height": 630
        },
        "outputId": "0a5257af-b1d2-4bc3-861b-42e722ed4e66"
      },
      "execution_count": null,
      "outputs": [
        {
          "output_type": "display_data",
          "data": {
            "text/plain": [
              "<Figure size 1080x720 with 1 Axes>"
            ],
            "image/png": "[encoded data removed]"
          },
          "metadata": {
            "needs_background": "light"
          }
        }
      ]
    }
  ]
}